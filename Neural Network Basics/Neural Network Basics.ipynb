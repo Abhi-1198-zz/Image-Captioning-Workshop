{
 "cells": [
  {
   "cell_type": "markdown",
   "metadata": {},
   "source": [
    "# What is Machine Learning?\n",
    "<big><big>Actually it's something like this.</big></big>\n",
    "![alt text](images/xkcd.png \"xkcd Comic\")\n",
    "Source:xkcd"
   ]
  },
  {
   "cell_type": "markdown",
   "metadata": {},
   "source": [
    "# Why Bother to learn?\n",
    "<big><big>Because... </big></big>\n",
    "\n",
    "![alt text](images/meme.jpeg \"Meme Generation Using Deep Learning\")\n",
    "Source: Google Images"
   ]
  },
  {
   "cell_type": "markdown",
   "metadata": {},
   "source": [
    "## Neural Networks and Deep Learning"
   ]
  },
  {
   "cell_type": "markdown",
   "metadata": {},
   "source": [
    "**What is a Neural Network?** <br>\n",
    "<big>Let's skip the definitions for which there's wikipedia at your disposal<br>\n",
    "**For now I'll say they are universal function approximators** <br>\n",
    "Have a look at this</big>\n"
   ]
  },
  {
   "cell_type": "markdown",
   "metadata": {},
   "source": [
    "![image.png](images/neural_network.png)\n",
    "\n",
    "### Looks Familiar?"
   ]
  },
  {
   "cell_type": "markdown",
   "metadata": {},
   "source": [
    "## Lets go deep."
   ]
  },
  {
   "cell_type": "markdown",
   "metadata": {},
   "source": [
    "![alt text](images/deep.png \"Meme Generation Using Deep Learning\")"
   ]
  },
  {
   "cell_type": "markdown",
   "metadata": {},
   "source": [
    "## **Neuron**: Biological Inspiration for Computation"
   ]
  },
  {
   "cell_type": "markdown",
   "metadata": {},
   "source": [
    "\n",
    "![biological_inspiration.png](images/biological_inspiration.png)"
   ]
  },
  {
   "cell_type": "markdown",
   "metadata": {},
   "source": [
    "**Supervised Learning with Neural Network**"
   ]
  },
  {
   "cell_type": "markdown",
   "metadata": {
    "collapsed": true
   },
   "source": [
    "![application.jpeg](images/application.jpeg)"
   ]
  },
  {
   "cell_type": "markdown",
   "metadata": {},
   "source": [
    "## Regression vs Classification"
   ]
  },
  {
   "cell_type": "markdown",
   "metadata": {},
   "source": [
    "![reg_vs_class.png](images/reg_vs_class.png)"
   ]
  },
  {
   "cell_type": "markdown",
   "metadata": {},
   "source": [
    "<big><big>**Wait a minute, What did you say? <br>\n",
    "Supervised, Unsupervised, What's that?**\n",
    "![suvsus.png](images/suvsus.png)</big></big>"
   ]
  },
  {
   "cell_type": "markdown",
   "metadata": {},
   "source": [
    "<big><big>**Why is DeepLearning taking off?**</big></big>"
   ]
  },
  {
   "cell_type": "markdown",
   "metadata": {
    "collapsed": true
   },
   "source": [
    "![take_off.png](images/take_off.png)"
   ]
  },
  {
   "cell_type": "markdown",
   "metadata": {
    "collapsed": true
   },
   "source": [
    "<big>**The vertical axes of the diagram you can see the performance of an algorithm (e.g. it’s prediction accuracy) and at the horizontal axes you can see the amount of data (Labelled Data).**</big>"
   ]
  },
  {
   "cell_type": "markdown",
   "metadata": {
    "collapsed": true
   },
   "source": [
    "<big>You can also see that the performance of traditional learning algorithms (logistic Regression, SVM’s etc.) increases at the beginning with an increase of the amount of data but that it plateaus at a certain level and stops improving it’s performance.</big>"
   ]
  },
  {
   "cell_type": "markdown",
   "metadata": {
    "collapsed": true
   },
   "source": [
    "<big>The thing is that we have accumulated huge amounts of data over the last decades where our traditional learning algorithms can’t take advantage of, which is where Deep Learning comes into play.</big>"
   ]
  },
  {
   "cell_type": "markdown",
   "metadata": {},
   "source": [
    "<big>**Large Neural Networks (e.g. Deep Learning) are getting better and better the more data you put into them. Andrew NG, a leading AI scientist, said that the three main forces which improve Neural Networks are:**</big>"
   ]
  },
  {
   "cell_type": "markdown",
   "metadata": {},
   "source": [
    "**1. Data <br>**\n",
    "**2. Computation <br>**\n",
    "**3. Algorithms <br>**"
   ]
  },
  {
   "cell_type": "markdown",
   "metadata": {},
   "source": [
    "<big> **The recent breakthroughs in the development of algorithms are mostly due to making them run much faster than before, which makes it possible to use more and more data. For an example, a big advancement came from switching from a Sigmoid function (left picture) to a rectified-Linear-Unit function (right picture).** </big>"
   ]
  },
  {
   "cell_type": "markdown",
   "metadata": {},
   "source": [
    "![relu_sigmoid.png](images/relu_sigmoid.png)"
   ]
  },
  {
   "cell_type": "markdown",
   "metadata": {},
   "source": [
    "The other reason why fast computation is important is that, the below cycle must be faster."
   ]
  },
  {
   "cell_type": "markdown",
   "metadata": {},
   "source": [
    "![basic_cycle.png](images/basic_cycle.png)"
   ]
  },
  {
   "cell_type": "markdown",
   "metadata": {},
   "source": [
    "<big>**Bringing more data to a model is almost always beneficial.**\n",
    "\n",
    "**Deep Learning approches improve with more data** </big>"
   ]
  },
  {
   "cell_type": "markdown",
   "metadata": {},
   "source": [
    "## Deep Learning Representation"
   ]
  },
  {
   "cell_type": "markdown",
   "metadata": {},
   "source": [
    "![Representation.jpeg](images/Representation.jpeg)"
   ]
  },
  {
   "cell_type": "markdown",
   "metadata": {},
   "source": [
    "## Deep Learning\n",
    "### Aka. Here comes the exciting Part\n",
    "<img src=\"images/exc.jpg\" alt=\"Drawing\" style=\"width: 400px;\"/>\n"
   ]
  },
  {
   "cell_type": "markdown",
   "metadata": {},
   "source": [
    "![DeepLearning.png](images/DeepLearning.png)"
   ]
  },
  {
   "cell_type": "markdown",
   "metadata": {},
   "source": [
    "## Deep Learning Tools"
   ]
  },
  {
   "cell_type": "markdown",
   "metadata": {},
   "source": [
    "<big><big>\n",
    "1. CUDA <br>\n",
    "2. Theano <br>\n",
    "3. Caffe2 <br>\n",
    "4. **Tensorflow 2.0** <br>\n",
    "5. **Pytorch 1.0** <br></big></big>"
   ]
  },
  {
   "cell_type": "markdown",
   "metadata": {},
   "source": [
    "## What is Tensorflow?\n"
   ]
  },
  {
   "cell_type": "markdown",
   "metadata": {},
   "source": [
    "![tensorflow.png](images/tensorflow.png)"
   ]
  },
  {
   "cell_type": "markdown",
   "metadata": {},
   "source": [
    "## Deep Learning is Representation Learning\n",
    "                            (aka Feature Learning)"
   ]
  },
  {
   "cell_type": "markdown",
   "metadata": {},
   "source": [
    "![Representation_learning.png](images/Representation_learning.png)"
   ]
  },
  {
   "cell_type": "markdown",
   "metadata": {},
   "source": [
    "![Representation_matters.png](images/Representation_matters.png)"
   ]
  },
  {
   "cell_type": "markdown",
   "metadata": {},
   "source": [
    "## WHY DEEP LEARNING?"
   ]
  },
  {
   "cell_type": "markdown",
   "metadata": {},
   "source": [
    "![why_dl?.png](images/whydl.png)"
   ]
  },
  {
   "cell_type": "markdown",
   "metadata": {},
   "source": [
    "## What is a Neural Network?\n",
    "**By the Example of House Price Prediction**"
   ]
  },
  {
   "cell_type": "markdown",
   "metadata": {},
   "source": [
    "![house_pred_exmaple.png](images/house_pred_exmaple.png)"
   ]
  },
  {
   "cell_type": "markdown",
   "metadata": {},
   "source": [
    "## DeepLearning for human and machine"
   ]
  },
  {
   "cell_type": "markdown",
   "metadata": {},
   "source": [
    "![dl_human-machine.png](images/dl_human-machine.png)"
   ]
  },
  {
   "cell_type": "markdown",
   "metadata": {},
   "source": [
    "## Data Augmentation"
   ]
  },
  {
   "cell_type": "markdown",
   "metadata": {},
   "source": [
    "![data_aug.png](images/data_aug.png)"
   ]
  },
  {
   "cell_type": "markdown",
   "metadata": {},
   "source": [
    "## Deep Learning: Training and Testing"
   ]
  },
  {
   "cell_type": "markdown",
   "metadata": {},
   "source": [
    "![training%20and%20testing.png](images/training%20and%20testing.png)"
   ]
  },
  {
   "cell_type": "markdown",
   "metadata": {},
   "source": [
    "## Neuron : Forward pass"
   ]
  },
  {
   "cell_type": "markdown",
   "metadata": {},
   "source": [
    "<img src=\"images/forward.jpeg\" alt=\"Drawing\" style=\"height: 400px;\"/>"
   ]
  },
  {
   "cell_type": "markdown",
   "metadata": {},
   "source": [
    "## Steps Involved in forward propagation!!"
   ]
  },
  {
   "cell_type": "markdown",
   "metadata": {},
   "source": [
    "![nn_are_parallelizable.png](images/nn_are_parallelizable.png)"
   ]
  },
  {
   "cell_type": "markdown",
   "metadata": {},
   "source": [
    "## How Neural Networks Learns : BackPropagation of Errors\n",
    "<img src=\"images/backprop.jpeg\" alt=\"Drawing\" style=\"height: 400px;\"/>\n"
   ]
  },
  {
   "cell_type": "markdown",
   "metadata": {},
   "source": [
    "### Steps Involved"
   ]
  },
  {
   "cell_type": "markdown",
   "metadata": {},
   "source": [
    "<img src=\"images/math.jpeg\" alt=\"Drawing\" style=\"height: 400px;\"/>"
   ]
  },
  {
   "cell_type": "markdown",
   "metadata": {},
   "source": [
    "<big><big>\n",
    "<ol>\n",
    "<li> <strong>Input <span class=\"MathJax_Preview\" style=\"color: inherit; display: none;\"></span><span class=\"MathJax\" id=\"MathJax-Element-303-Frame\" tabindex=\"0\" data-mathml=\"<math xmlns=&quot;http://www.w3.org/1998/Math/MathML&quot;><mi>x</mi></math>\" role=\"presentation\" style=\"position: relative;\"><nobr aria-hidden=\"true\"><span class=\"math\" id=\"MathJax-Span-4261\" style=\"width: 0.564em; display: inline-block;\"><span style=\"display: inline-block; position: relative; width: 0.564em; height: 0px; font-size: 98%;\"><span style=\"position: absolute; clip: rect(1.533em, 1000.51em, 2.298em, -999.997em); top: -2.14em; left: 0em;\"><span class=\"mrow\" id=\"MathJax-Span-4262\"><span class=\"mi\" id=\"MathJax-Span-4263\" style=\"font-family: MathJax_Math-italic;\">x</span></span><span style=\"display: inline-block; width: 0px; height: 2.145em;\"></span></span></span><span style=\"display: inline-block; overflow: hidden; vertical-align: -0.048em; border-left: 0px solid; width: 0px; height: 0.552em;\"></span></span></nobr><span class=\"MJX_Assistive_MathML\" role=\"presentation\"><math xmlns=\"http://www.w3.org/1998/Math/MathML\"><mi>x</mi></math></span></span><script type=\"math/tex\" id=\"MathJax-Element-303\">x</script>:</strong> Set the corresponding activation <span class=\"MathJax_Preview\" style=\"color: inherit; display: none;\"></span><span class=\"MathJax\" id=\"MathJax-Element-304-Frame\" tabindex=\"0\" data-mathml=\"<math xmlns=&quot;http://www.w3.org/1998/Math/MathML&quot;><msup><mi>a</mi><mrow class=&quot;MJX-TeXAtom-ORD&quot;><mn>1</mn></mrow></msup></math>\" role=\"presentation\" style=\"position: relative;\"><nobr aria-hidden=\"true\"><span class=\"math\" id=\"MathJax-Span-4264\" style=\"width: 0.972em; display: inline-block;\"><span style=\"display: inline-block; position: relative; width: 0.972em; height: 0px; font-size: 98%;\"><span style=\"position: absolute; clip: rect(1.176em, 1000.97em, 2.298em, -999.997em); top: -2.14em; left: 0em;\"><span class=\"mrow\" id=\"MathJax-Span-4265\"><span class=\"msubsup\" id=\"MathJax-Span-4266\"><span style=\"display: inline-block; position: relative; width: 0.972em; height: 0px;\"><span style=\"position: absolute; clip: rect(3.37em, 1000.51em, 4.135em, -999.997em); top: -3.977em; left: 0em;\"><span class=\"mi\" id=\"MathJax-Span-4267\" style=\"font-family: MathJax_Math-italic;\">a</span><span style=\"display: inline-block; width: 0px; height: 3.982em;\"></span></span><span style=\"position: absolute; top: -4.334em; left: 0.513em;\"><span class=\"texatom\" id=\"MathJax-Span-4268\"><span class=\"mrow\" id=\"MathJax-Span-4269\"><span class=\"mn\" id=\"MathJax-Span-4270\" style=\"font-size: 70.7%; font-family: MathJax_Main;\">1</span></span></span><span style=\"display: inline-block; width: 0px; height: 3.982em;\"></span></span></span></span></span><span style=\"display: inline-block; width: 0px; height: 2.145em;\"></span></span></span><span style=\"display: inline-block; overflow: hidden; vertical-align: -0.048em; border-left: 0px solid; width: 0px; height: 0.953em;\"></span></span></nobr><span class=\"MJX_Assistive_MathML\" role=\"presentation\"><math xmlns=\"http://www.w3.org/1998/Math/MathML\"><msup><mi>a</mi><mrow class=\"MJX-TeXAtom-ORD\"><mn>1</mn></mrow></msup></math></span></span><script type=\"math/tex\" id=\"MathJax-Element-304\">a^{1}</script> for\n",
    "  the input layer.  <p></p><p></p></li><li> <strong>Feedforward:</strong> For each <span class=\"MathJax_Preview\" style=\"color: inherit; display: none;\"></span><span class=\"MathJax\" id=\"MathJax-Element-305-Frame\" tabindex=\"0\" data-mathml=\"<math xmlns=&quot;http://www.w3.org/1998/Math/MathML&quot;><mi>l</mi><mo>=</mo><mn>2</mn><mo>,</mo><mn>3</mn><mo>,</mo><mo>&amp;#x2026;</mo><mo>,</mo><mi>L</mi></math>\" role=\"presentation\" style=\"position: relative;\"><nobr aria-hidden=\"true\"><span class=\"math\" id=\"MathJax-Span-4271\" style=\"width: 5.768em; display: inline-block;\"><span style=\"display: inline-block; position: relative; width: 5.87em; height: 0px; font-size: 98%;\"><span style=\"position: absolute; clip: rect(1.329em, 1005.82em, 2.554em, -999.997em); top: -2.191em; left: 0em;\"><span class=\"mrow\" id=\"MathJax-Span-4272\"><span class=\"mi\" id=\"MathJax-Span-4273\" style=\"font-family: MathJax_Math-italic;\">l</span><span class=\"mo\" id=\"MathJax-Span-4274\" style=\"font-family: MathJax_Main; padding-left: 0.258em;\">=</span><span class=\"mn\" id=\"MathJax-Span-4275\" style=\"font-family: MathJax_Main; padding-left: 0.258em;\">2</span><span class=\"mo\" id=\"MathJax-Span-4276\" style=\"font-family: MathJax_Main;\">,</span><span class=\"mn\" id=\"MathJax-Span-4277\" style=\"font-family: MathJax_Main; padding-left: 0.156em;\">3</span><span class=\"mo\" id=\"MathJax-Span-4278\" style=\"font-family: MathJax_Main;\">,</span><span class=\"mo\" id=\"MathJax-Span-4279\" style=\"font-family: MathJax_Main; padding-left: 0.156em;\">…</span><span class=\"mo\" id=\"MathJax-Span-4280\" style=\"font-family: MathJax_Main; padding-left: 0.156em;\">,</span><span class=\"mi\" id=\"MathJax-Span-4281\" style=\"font-family: MathJax_Math-italic; padding-left: 0.156em;\">L</span></span><span style=\"display: inline-block; width: 0px; height: 2.196em;\"></span></span></span><span style=\"display: inline-block; overflow: hidden; vertical-align: -0.247em; border-left: 0px solid; width: 0px; height: 0.953em;\"></span></span></nobr><span class=\"MJX_Assistive_MathML\" role=\"presentation\"><math xmlns=\"http://www.w3.org/1998/Math/MathML\"><mi>l</mi><mo>=</mo><mn>2</mn><mo>,</mo><mn>3</mn><mo>,</mo><mo>…</mo><mo>,</mo><mi>L</mi></math></span></span><script type=\"math/tex\" id=\"MathJax-Element-305\">l = 2, 3, \\ldots, L</script> compute\n",
    "  <span class=\"MathJax_Preview\" style=\"color: inherit; display: none;\"></span><span class=\"MathJax\" id=\"MathJax-Element-306-Frame\" tabindex=\"0\" data-mathml=\"<math xmlns=&quot;http://www.w3.org/1998/Math/MathML&quot;><msup><mi>z</mi><mrow class=&quot;MJX-TeXAtom-ORD&quot;><mi>l</mi></mrow></msup><mo>=</mo><msup><mi>w</mi><mi>l</mi></msup><msup><mi>a</mi><mrow class=&quot;MJX-TeXAtom-ORD&quot;><mi>l</mi><mo>&amp;#x2212;</mo><mn>1</mn></mrow></msup><mo>+</mo><msup><mi>b</mi><mi>l</mi></msup></math>\" role=\"presentation\" style=\"position: relative;\"><nobr aria-hidden=\"true\"><span class=\"math\" id=\"MathJax-Span-4282\" style=\"width: 6.686em; display: inline-block;\"><span style=\"display: inline-block; position: relative; width: 6.788em; height: 0px; font-size: 98%;\"><span style=\"position: absolute; clip: rect(1.176em, 1006.79em, 2.452em, -999.997em); top: -2.191em; left: 0em;\"><span class=\"mrow\" id=\"MathJax-Span-4283\"><span class=\"msubsup\" id=\"MathJax-Span-4284\"><span style=\"display: inline-block; position: relative; width: 0.819em; height: 0px;\"><span style=\"position: absolute; clip: rect(3.37em, 1000.46em, 4.135em, -999.997em); top: -3.977em; left: 0em;\"><span class=\"mi\" id=\"MathJax-Span-4285\" style=\"font-family: MathJax_Math-italic;\">z<span style=\"display: inline-block; overflow: hidden; height: 1px; width: 0.003em;\"></span></span><span style=\"display: inline-block; width: 0px; height: 3.982em;\"></span></span><span style=\"position: absolute; top: -4.334em; left: 0.513em;\"><span class=\"texatom\" id=\"MathJax-Span-4286\"><span class=\"mrow\" id=\"MathJax-Span-4287\"><span class=\"mi\" id=\"MathJax-Span-4288\" style=\"font-size: 70.7%; font-family: MathJax_Math-italic;\">l</span></span></span><span style=\"display: inline-block; width: 0px; height: 3.982em;\"></span></span></span></span><span class=\"mo\" id=\"MathJax-Span-4289\" style=\"font-family: MathJax_Main; padding-left: 0.258em;\">=</span><span class=\"msubsup\" id=\"MathJax-Span-4290\" style=\"padding-left: 0.258em;\"><span style=\"display: inline-block; position: relative; width: 1.023em; height: 0px;\"><span style=\"position: absolute; clip: rect(3.37em, 1000.72em, 4.135em, -999.997em); top: -3.977em; left: 0em;\"><span class=\"mi\" id=\"MathJax-Span-4291\" style=\"font-family: MathJax_Math-italic;\">w</span><span style=\"display: inline-block; width: 0px; height: 3.982em;\"></span></span><span style=\"position: absolute; top: -4.334em; left: 0.717em;\"><span class=\"mi\" id=\"MathJax-Span-4292\" style=\"font-size: 70.7%; font-family: MathJax_Math-italic;\">l</span><span style=\"display: inline-block; width: 0px; height: 3.982em;\"></span></span></span></span><span class=\"msubsup\" id=\"MathJax-Span-4293\"><span style=\"display: inline-block; position: relative; width: 1.737em; height: 0px;\"><span style=\"position: absolute; clip: rect(3.37em, 1000.51em, 4.135em, -999.997em); top: -3.977em; left: 0em;\"><span class=\"mi\" id=\"MathJax-Span-4294\" style=\"font-family: MathJax_Math-italic;\">a</span><span style=\"display: inline-block; width: 0px; height: 3.982em;\"></span></span><span style=\"position: absolute; top: -4.334em; left: 0.513em;\"><span class=\"texatom\" id=\"MathJax-Span-4295\"><span class=\"mrow\" id=\"MathJax-Span-4296\"><span class=\"mi\" id=\"MathJax-Span-4297\" style=\"font-size: 70.7%; font-family: MathJax_Math-italic;\">l</span><span class=\"mo\" id=\"MathJax-Span-4298\" style=\"font-size: 70.7%; font-family: MathJax_Main;\">−</span><span class=\"mn\" id=\"MathJax-Span-4299\" style=\"font-size: 70.7%; font-family: MathJax_Main;\">1</span></span></span><span style=\"display: inline-block; width: 0px; height: 3.982em;\"></span></span></span></span><span class=\"mo\" id=\"MathJax-Span-4300\" style=\"font-family: MathJax_Main; padding-left: 0.207em;\">+</span><span class=\"msubsup\" id=\"MathJax-Span-4301\" style=\"padding-left: 0.207em;\"><span style=\"display: inline-block; position: relative; width: 0.717em; height: 0px;\"><span style=\"position: absolute; clip: rect(3.115em, 1000.41em, 4.135em, -999.997em); top: -3.977em; left: 0em;\"><span class=\"mi\" id=\"MathJax-Span-4302\" style=\"font-family: MathJax_Math-italic;\">b</span><span style=\"display: inline-block; width: 0px; height: 3.982em;\"></span></span><span style=\"position: absolute; top: -4.334em; left: 0.411em;\"><span class=\"mi\" id=\"MathJax-Span-4303\" style=\"font-size: 70.7%; font-family: MathJax_Math-italic;\">l</span><span style=\"display: inline-block; width: 0px; height: 3.982em;\"></span></span></span></span></span><span style=\"display: inline-block; width: 0px; height: 2.196em;\"></span></span></span><span style=\"display: inline-block; overflow: hidden; vertical-align: -0.148em; border-left: 0px solid; width: 0px; height: 1.002em;\"></span></span></nobr><span class=\"MJX_Assistive_MathML\" role=\"presentation\"><math xmlns=\"http://www.w3.org/1998/Math/MathML\"><msup><mi>z</mi><mrow class=\"MJX-TeXAtom-ORD\"><mi>l</mi></mrow></msup><mo>=</mo><msup><mi>w</mi><mi>l</mi></msup><msup><mi>a</mi><mrow class=\"MJX-TeXAtom-ORD\"><mi>l</mi><mo>−</mo><mn>1</mn></mrow></msup><mo>+</mo><msup><mi>b</mi><mi>l</mi></msup></math></span></span><script type=\"math/tex\" id=\"MathJax-Element-306\">z^{l} = w^l a^{l-1}+b^l</script> and <span class=\"MathJax_Preview\" style=\"color: inherit; display: none;\"></span><span class=\"MathJax\" id=\"MathJax-Element-307-Frame\" tabindex=\"0\" data-mathml=\"<math xmlns=&quot;http://www.w3.org/1998/Math/MathML&quot;><msup><mi>a</mi><mrow class=&quot;MJX-TeXAtom-ORD&quot;><mi>l</mi></mrow></msup><mo>=</mo><mi>&amp;#x03C3;</mi><mo stretchy=&quot;false&quot;>(</mo><msup><mi>z</mi><mrow class=&quot;MJX-TeXAtom-ORD&quot;><mi>l</mi></mrow></msup><mo stretchy=&quot;false&quot;>)</mo></math>\" role=\"presentation\" style=\"position: relative;\"><nobr aria-hidden=\"true\"><span class=\"math\" id=\"MathJax-Span-4304\" style=\"width: 4.237em; display: inline-block;\"><span style=\"display: inline-block; position: relative; width: 4.288em; height: 0px; font-size: 98%;\"><span style=\"position: absolute; clip: rect(1.176em, 1004.19em, 2.605em, -999.997em); top: -2.191em; left: 0em;\"><span class=\"mrow\" id=\"MathJax-Span-4305\"><span class=\"msubsup\" id=\"MathJax-Span-4306\"><span style=\"display: inline-block; position: relative; width: 0.819em; height: 0px;\"><span style=\"position: absolute; clip: rect(3.37em, 1000.51em, 4.135em, -999.997em); top: -3.977em; left: 0em;\"><span class=\"mi\" id=\"MathJax-Span-4307\" style=\"font-family: MathJax_Math-italic;\">a</span><span style=\"display: inline-block; width: 0px; height: 3.982em;\"></span></span><span style=\"position: absolute; top: -4.334em; left: 0.513em;\"><span class=\"texatom\" id=\"MathJax-Span-4308\"><span class=\"mrow\" id=\"MathJax-Span-4309\"><span class=\"mi\" id=\"MathJax-Span-4310\" style=\"font-size: 70.7%; font-family: MathJax_Math-italic;\">l</span></span></span><span style=\"display: inline-block; width: 0px; height: 3.982em;\"></span></span></span></span><span class=\"mo\" id=\"MathJax-Span-4311\" style=\"font-family: MathJax_Main; padding-left: 0.258em;\">=</span><span class=\"mi\" id=\"MathJax-Span-4312\" style=\"font-family: MathJax_Math-italic; padding-left: 0.258em;\">σ<span style=\"display: inline-block; overflow: hidden; height: 1px; width: 0.003em;\"></span></span><span class=\"mo\" id=\"MathJax-Span-4313\" style=\"font-family: MathJax_Main;\">(</span><span class=\"msubsup\" id=\"MathJax-Span-4314\"><span style=\"display: inline-block; position: relative; width: 0.819em; height: 0px;\"><span style=\"position: absolute; clip: rect(3.37em, 1000.46em, 4.135em, -999.997em); top: -3.977em; left: 0em;\"><span class=\"mi\" id=\"MathJax-Span-4315\" style=\"font-family: MathJax_Math-italic;\">z<span style=\"display: inline-block; overflow: hidden; height: 1px; width: 0.003em;\"></span></span><span style=\"display: inline-block; width: 0px; height: 3.982em;\"></span></span><span style=\"position: absolute; top: -4.334em; left: 0.513em;\"><span class=\"texatom\" id=\"MathJax-Span-4316\"><span class=\"mrow\" id=\"MathJax-Span-4317\"><span class=\"mi\" id=\"MathJax-Span-4318\" style=\"font-size: 70.7%; font-family: MathJax_Math-italic;\">l</span></span></span><span style=\"display: inline-block; width: 0px; height: 3.982em;\"></span></span></span></span><span class=\"mo\" id=\"MathJax-Span-4319\" style=\"font-family: MathJax_Main;\">)</span></span><span style=\"display: inline-block; width: 0px; height: 2.196em;\"></span></span></span><span style=\"display: inline-block; overflow: hidden; vertical-align: -0.297em; border-left: 0px solid; width: 0px; height: 1.203em;\"></span></span></nobr><span class=\"MJX_Assistive_MathML\" role=\"presentation\"><math xmlns=\"http://www.w3.org/1998/Math/MathML\"><msup><mi>a</mi><mrow class=\"MJX-TeXAtom-ORD\"><mi>l</mi></mrow></msup><mo>=</mo><mi>σ</mi><mo stretchy=\"false\">(</mo><msup><mi>z</mi><mrow class=\"MJX-TeXAtom-ORD\"><mi>l</mi></mrow></msup><mo stretchy=\"false\">)</mo></math></span></span><script type=\"math/tex\" id=\"MathJax-Element-307\">a^{l} = \\sigma(z^{l})</script>.<p></p><p></p></li><li> <strong>Output error <span class=\"MathJax_Preview\" style=\"color: inherit; display: none;\"></span><span class=\"MathJax\" id=\"MathJax-Element-308-Frame\" tabindex=\"0\" data-mathml=\"<math xmlns=&quot;http://www.w3.org/1998/Math/MathML&quot;><msup><mi>&amp;#x03B4;</mi><mi>L</mi></msup></math>\" role=\"presentation\" style=\"position: relative;\"><nobr aria-hidden=\"true\"><span class=\"math\" id=\"MathJax-Span-4320\" style=\"width: 1.074em; display: inline-block;\"><span style=\"display: inline-block; position: relative; width: 1.074em; height: 0px; font-size: 98%;\"><span style=\"position: absolute; clip: rect(1.125em, 1001.07em, 2.298em, -999.997em); top: -2.14em; left: 0em;\"><span class=\"mrow\" id=\"MathJax-Span-4321\"><span class=\"msubsup\" id=\"MathJax-Span-4322\"><span style=\"display: inline-block; position: relative; width: 1.074em; height: 0px;\"><span style=\"position: absolute; clip: rect(3.115em, 1000.46em, 4.135em, -999.997em); top: -3.977em; left: 0em;\"><span class=\"mi\" id=\"MathJax-Span-4323\" style=\"font-family: MathJax_Math-italic;\">δ<span style=\"display: inline-block; overflow: hidden; height: 1px; width: 0.003em;\"></span></span><span style=\"display: inline-block; width: 0px; height: 3.982em;\"></span></span><span style=\"position: absolute; top: -4.334em; left: 0.513em;\"><span class=\"mi\" id=\"MathJax-Span-4324\" style=\"font-size: 70.7%; font-family: MathJax_Math-italic;\">L</span><span style=\"display: inline-block; width: 0px; height: 3.982em;\"></span></span></span></span></span><span style=\"display: inline-block; width: 0px; height: 2.145em;\"></span></span></span><span style=\"display: inline-block; overflow: hidden; vertical-align: -0.048em; border-left: 0px solid; width: 0px; height: 0.953em;\"></span></span></nobr><span class=\"MJX_Assistive_MathML\" role=\"presentation\"><math xmlns=\"http://www.w3.org/1998/Math/MathML\"><msup><mi>δ</mi><mi>L</mi></msup></math></span></span><script type=\"math/tex\" id=\"MathJax-Element-308\">\\delta^L</script>:</strong> Compute the vector <span class=\"MathJax_Preview\" style=\"color: inherit; display: none;\"></span><span class=\"MathJax\" id=\"MathJax-Element-309-Frame\" tabindex=\"0\" data-mathml=\"<math xmlns=&quot;http://www.w3.org/1998/Math/MathML&quot;><msup><mi>&amp;#x03B4;</mi><mrow class=&quot;MJX-TeXAtom-ORD&quot;><mi>L</mi></mrow></msup><mo>=</mo><msub><mi mathvariant=&quot;normal&quot;>&amp;#x2207;</mi><mi>a</mi></msub><mi>C</mi><mo>&amp;#x2299;</mo><msup><mi>&amp;#x03C3;</mi><mo>&amp;#x2032;</mo></msup><mo stretchy=&quot;false&quot;>(</mo><msup><mi>z</mi><mi>L</mi></msup><mo stretchy=&quot;false&quot;>)</mo></math>\" role=\"presentation\" style=\"position: relative;\"><nobr aria-hidden=\"true\"><span class=\"math\" id=\"MathJax-Span-4325\" style=\"width: 8.166em; display: inline-block;\"><span style=\"display: inline-block; position: relative; width: 8.319em; height: 0px; font-size: 98%;\"><span style=\"position: absolute; clip: rect(1.176em, 1008.22em, 2.605em, -999.997em); top: -2.191em; left: 0em;\"><span class=\"mrow\" id=\"MathJax-Span-4326\"><span class=\"msubsup\" id=\"MathJax-Span-4327\"><span style=\"display: inline-block; position: relative; width: 1.074em; height: 0px;\"><span style=\"position: absolute; clip: rect(3.115em, 1000.46em, 4.135em, -999.997em); top: -3.977em; left: 0em;\"><span class=\"mi\" id=\"MathJax-Span-4328\" style=\"font-family: MathJax_Math-italic;\">δ<span style=\"display: inline-block; overflow: hidden; height: 1px; width: 0.003em;\"></span></span><span style=\"display: inline-block; width: 0px; height: 3.982em;\"></span></span><span style=\"position: absolute; top: -4.334em; left: 0.513em;\"><span class=\"texatom\" id=\"MathJax-Span-4329\"><span class=\"mrow\" id=\"MathJax-Span-4330\"><span class=\"mi\" id=\"MathJax-Span-4331\" style=\"font-size: 70.7%; font-family: MathJax_Math-italic;\">L</span></span></span><span style=\"display: inline-block; width: 0px; height: 3.982em;\"></span></span></span></span><span class=\"mo\" id=\"MathJax-Span-4332\" style=\"font-family: MathJax_Main; padding-left: 0.258em;\">=</span><span class=\"msubsup\" id=\"MathJax-Span-4333\" style=\"padding-left: 0.258em;\"><span style=\"display: inline-block; position: relative; width: 1.278em; height: 0px;\"><span style=\"position: absolute; clip: rect(3.166em, 1000.77em, 4.186em, -999.997em); top: -3.977em; left: 0em;\"><span class=\"mi\" id=\"MathJax-Span-4334\" style=\"font-family: MathJax_Main;\">∇</span><span style=\"display: inline-block; width: 0px; height: 3.982em;\"></span></span><span style=\"position: absolute; top: -3.824em; left: 0.819em;\"><span class=\"mi\" id=\"MathJax-Span-4335\" style=\"font-size: 70.7%; font-family: MathJax_Math-italic;\">a</span><span style=\"display: inline-block; width: 0px; height: 3.982em;\"></span></span></span></span><span class=\"mi\" id=\"MathJax-Span-4336\" style=\"font-family: MathJax_Math-italic;\">C<span style=\"display: inline-block; overflow: hidden; height: 1px; width: 0.054em;\"></span></span><span class=\"mo\" id=\"MathJax-Span-4337\" style=\"font-family: MathJax_Main; padding-left: 0.207em;\">⊙</span><span class=\"msup\" id=\"MathJax-Span-4338\" style=\"padding-left: 0.207em;\"><span style=\"display: inline-block; position: relative; width: 0.87em; height: 0px;\"><span style=\"position: absolute; clip: rect(3.421em, 1000.56em, 4.135em, -999.997em); top: -3.977em; left: 0em;\"><span class=\"mi\" id=\"MathJax-Span-4339\" style=\"font-family: MathJax_Math-italic;\">σ<span style=\"display: inline-block; overflow: hidden; height: 1px; width: 0.003em;\"></span></span><span style=\"display: inline-block; width: 0px; height: 3.982em;\"></span></span><span style=\"position: absolute; top: -4.334em; left: 0.615em;\"><span class=\"mo\" id=\"MathJax-Span-4340\" style=\"font-size: 70.7%; font-family: MathJax_Main;\">′</span><span style=\"display: inline-block; width: 0px; height: 3.982em;\"></span></span></span></span><span class=\"mo\" id=\"MathJax-Span-4341\" style=\"font-family: MathJax_Main;\">(</span><span class=\"msubsup\" id=\"MathJax-Span-4342\"><span style=\"display: inline-block; position: relative; width: 1.074em; height: 0px;\"><span style=\"position: absolute; clip: rect(3.37em, 1000.46em, 4.135em, -999.997em); top: -3.977em; left: 0em;\"><span class=\"mi\" id=\"MathJax-Span-4343\" style=\"font-family: MathJax_Math-italic;\">z<span style=\"display: inline-block; overflow: hidden; height: 1px; width: 0.003em;\"></span></span><span style=\"display: inline-block; width: 0px; height: 3.982em;\"></span></span><span style=\"position: absolute; top: -4.334em; left: 0.513em;\"><span class=\"mi\" id=\"MathJax-Span-4344\" style=\"font-size: 70.7%; font-family: MathJax_Math-italic;\">L</span><span style=\"display: inline-block; width: 0px; height: 3.982em;\"></span></span></span></span><span class=\"mo\" id=\"MathJax-Span-4345\" style=\"font-family: MathJax_Main;\">)</span></span><span style=\"display: inline-block; width: 0px; height: 2.196em;\"></span></span></span><span style=\"display: inline-block; overflow: hidden; vertical-align: -0.297em; border-left: 0px solid; width: 0px; height: 1.153em;\"></span></span></nobr><span class=\"MJX_Assistive_MathML\" role=\"presentation\"><math xmlns=\"http://www.w3.org/1998/Math/MathML\"><msup><mi>δ</mi><mrow class=\"MJX-TeXAtom-ORD\"><mi>L</mi></mrow></msup><mo>=</mo><msub><mi mathvariant=\"normal\">∇</mi><mi>a</mi></msub><mi>C</mi><mo>⊙</mo><msup><mi>σ</mi><mo>′</mo></msup><mo stretchy=\"false\">(</mo><msup><mi>z</mi><mi>L</mi></msup><mo stretchy=\"false\">)</mo></math></span></span><script type=\"math/tex\" id=\"MathJax-Element-309\">\\delta^{L}\n",
    "  = \\nabla_a C \\odot \\sigma'(z^L)</script>.<p></p><p></p></li><li> <strong>Backpropagate the error:</strong> For each <span class=\"MathJax_Preview\" style=\"color: inherit; display: none;\"></span><span class=\"MathJax\" id=\"MathJax-Element-310-Frame\" tabindex=\"0\" data-mathml=\"<math xmlns=&quot;http://www.w3.org/1998/Math/MathML&quot;><mi>l</mi><mo>=</mo><mi>L</mi><mo>&amp;#x2212;</mo><mn>1</mn><mo>,</mo><mi>L</mi><mo>&amp;#x2212;</mo><mn>2</mn><mo>,</mo><mo>&amp;#x2026;</mo><mo>,</mo><mn>2</mn></math>\" role=\"presentation\" style=\"position: relative;\"><nobr aria-hidden=\"true\"><span class=\"math\" id=\"MathJax-Span-4346\" style=\"width: 9.288em; display: inline-block;\"><span style=\"display: inline-block; position: relative; width: 9.441em; height: 0px; font-size: 98%;\"><span style=\"position: absolute; clip: rect(1.329em, 1009.39em, 2.554em, -999.997em); top: -2.191em; left: 0em;\"><span class=\"mrow\" id=\"MathJax-Span-4347\"><span class=\"mi\" id=\"MathJax-Span-4348\" style=\"font-family: MathJax_Math-italic;\">l</span><span class=\"mo\" id=\"MathJax-Span-4349\" style=\"font-family: MathJax_Main; padding-left: 0.258em;\">=</span><span class=\"mi\" id=\"MathJax-Span-4350\" style=\"font-family: MathJax_Math-italic; padding-left: 0.258em;\">L</span><span class=\"mo\" id=\"MathJax-Span-4351\" style=\"font-family: MathJax_Main; padding-left: 0.207em;\">−</span><span class=\"mn\" id=\"MathJax-Span-4352\" style=\"font-family: MathJax_Main; padding-left: 0.207em;\">1</span><span class=\"mo\" id=\"MathJax-Span-4353\" style=\"font-family: MathJax_Main;\">,</span><span class=\"mi\" id=\"MathJax-Span-4354\" style=\"font-family: MathJax_Math-italic; padding-left: 0.156em;\">L</span><span class=\"mo\" id=\"MathJax-Span-4355\" style=\"font-family: MathJax_Main; padding-left: 0.207em;\">−</span><span class=\"mn\" id=\"MathJax-Span-4356\" style=\"font-family: MathJax_Main; padding-left: 0.207em;\">2</span><span class=\"mo\" id=\"MathJax-Span-4357\" style=\"font-family: MathJax_Main;\">,</span><span class=\"mo\" id=\"MathJax-Span-4358\" style=\"font-family: MathJax_Main; padding-left: 0.156em;\">…</span><span class=\"mo\" id=\"MathJax-Span-4359\" style=\"font-family: MathJax_Main; padding-left: 0.156em;\">,</span><span class=\"mn\" id=\"MathJax-Span-4360\" style=\"font-family: MathJax_Main; padding-left: 0.156em;\">2</span></span><span style=\"display: inline-block; width: 0px; height: 2.196em;\"></span></span></span><span style=\"display: inline-block; overflow: hidden; vertical-align: -0.247em; border-left: 0px solid; width: 0px; height: 0.953em;\"></span></span></nobr><span class=\"MJX_Assistive_MathML\" role=\"presentation\"><math xmlns=\"http://www.w3.org/1998/Math/MathML\"><mi>l</mi><mo>=</mo><mi>L</mi><mo>−</mo><mn>1</mn><mo>,</mo><mi>L</mi><mo>−</mo><mn>2</mn><mo>,</mo><mo>…</mo><mo>,</mo><mn>2</mn></math></span></span><script type=\"math/tex\" id=\"MathJax-Element-310\">l = L-1, L-2,\n",
    "  \\ldots, 2</script> compute <span class=\"MathJax_Preview\" style=\"color: inherit; display: none;\"></span><span class=\"MathJax\" id=\"MathJax-Element-311-Frame\" tabindex=\"0\" data-mathml=\"<math xmlns=&quot;http://www.w3.org/1998/Math/MathML&quot;><msup><mi>&amp;#x03B4;</mi><mrow class=&quot;MJX-TeXAtom-ORD&quot;><mi>l</mi></mrow></msup><mo>=</mo><mo stretchy=&quot;false&quot;>(</mo><mo stretchy=&quot;false&quot;>(</mo><msup><mi>w</mi><mrow class=&quot;MJX-TeXAtom-ORD&quot;><mi>l</mi><mo>+</mo><mn>1</mn></mrow></msup><msup><mo stretchy=&quot;false&quot;>)</mo><mi>T</mi></msup><msup><mi>&amp;#x03B4;</mi><mrow class=&quot;MJX-TeXAtom-ORD&quot;><mi>l</mi><mo>+</mo><mn>1</mn></mrow></msup><mo stretchy=&quot;false&quot;>)</mo><mo>&amp;#x2299;</mo><msup><mi>&amp;#x03C3;</mi><mo>&amp;#x2032;</mo></msup><mo stretchy=&quot;false&quot;>(</mo><msup><mi>z</mi><mrow class=&quot;MJX-TeXAtom-ORD&quot;><mi>l</mi></mrow></msup><mo stretchy=&quot;false&quot;>)</mo></math>\" role=\"presentation\" style=\"position: relative;\"><nobr aria-hidden=\"true\"><span class=\"math\" id=\"MathJax-Span-4361\" style=\"width: 11.227em; display: inline-block;\"><span style=\"display: inline-block; position: relative; width: 11.431em; height: 0px; font-size: 98%;\"><span style=\"position: absolute; clip: rect(1.176em, 1011.33em, 2.605em, -999.997em); top: -2.191em; left: 0em;\"><span class=\"mrow\" id=\"MathJax-Span-4362\"><span class=\"msubsup\" id=\"MathJax-Span-4363\"><span style=\"display: inline-block; position: relative; width: 0.768em; height: 0px;\"><span style=\"position: absolute; clip: rect(3.115em, 1000.46em, 4.135em, -999.997em); top: -3.977em; left: 0em;\"><span class=\"mi\" id=\"MathJax-Span-4364\" style=\"font-family: MathJax_Math-italic;\">δ<span style=\"display: inline-block; overflow: hidden; height: 1px; width: 0.003em;\"></span></span><span style=\"display: inline-block; width: 0px; height: 3.982em;\"></span></span><span style=\"position: absolute; top: -4.334em; left: 0.513em;\"><span class=\"texatom\" id=\"MathJax-Span-4365\"><span class=\"mrow\" id=\"MathJax-Span-4366\"><span class=\"mi\" id=\"MathJax-Span-4367\" style=\"font-size: 70.7%; font-family: MathJax_Math-italic;\">l</span></span></span><span style=\"display: inline-block; width: 0px; height: 3.982em;\"></span></span></span></span><span class=\"mo\" id=\"MathJax-Span-4368\" style=\"font-family: MathJax_Main; padding-left: 0.258em;\">=</span><span class=\"mo\" id=\"MathJax-Span-4369\" style=\"font-family: MathJax_Main; padding-left: 0.258em;\">(</span><span class=\"mo\" id=\"MathJax-Span-4370\" style=\"font-family: MathJax_Main;\">(</span><span class=\"msubsup\" id=\"MathJax-Span-4371\"><span style=\"display: inline-block; position: relative; width: 1.89em; height: 0px;\"><span style=\"position: absolute; clip: rect(3.37em, 1000.72em, 4.135em, -999.997em); top: -3.977em; left: 0em;\"><span class=\"mi\" id=\"MathJax-Span-4372\" style=\"font-family: MathJax_Math-italic;\">w</span><span style=\"display: inline-block; width: 0px; height: 3.982em;\"></span></span><span style=\"position: absolute; top: -4.334em; left: 0.717em;\"><span class=\"texatom\" id=\"MathJax-Span-4373\"><span class=\"mrow\" id=\"MathJax-Span-4374\"><span class=\"mi\" id=\"MathJax-Span-4375\" style=\"font-size: 70.7%; font-family: MathJax_Math-italic;\">l</span><span class=\"mo\" id=\"MathJax-Span-4376\" style=\"font-size: 70.7%; font-family: MathJax_Main;\">+</span><span class=\"mn\" id=\"MathJax-Span-4377\" style=\"font-size: 70.7%; font-family: MathJax_Main;\">1</span></span></span><span style=\"display: inline-block; width: 0px; height: 3.982em;\"></span></span></span></span><span class=\"msubsup\" id=\"MathJax-Span-4378\"><span style=\"display: inline-block; position: relative; width: 0.972em; height: 0px;\"><span style=\"position: absolute; clip: rect(3.064em, 1000.31em, 4.39em, -999.997em); top: -3.977em; left: 0em;\"><span class=\"mo\" id=\"MathJax-Span-4379\" style=\"font-family: MathJax_Main;\">)</span><span style=\"display: inline-block; width: 0px; height: 3.982em;\"></span></span><span style=\"position: absolute; top: -4.334em; left: 0.411em;\"><span class=\"mi\" id=\"MathJax-Span-4380\" style=\"font-size: 70.7%; font-family: MathJax_Math-italic;\">T<span style=\"display: inline-block; overflow: hidden; height: 1px; width: 0.105em;\"></span></span><span style=\"display: inline-block; width: 0px; height: 3.982em;\"></span></span></span></span><span class=\"msubsup\" id=\"MathJax-Span-4381\"><span style=\"display: inline-block; position: relative; width: 1.686em; height: 0px;\"><span style=\"position: absolute; clip: rect(3.115em, 1000.46em, 4.135em, -999.997em); top: -3.977em; left: 0em;\"><span class=\"mi\" id=\"MathJax-Span-4382\" style=\"font-family: MathJax_Math-italic;\">δ<span style=\"display: inline-block; overflow: hidden; height: 1px; width: 0.003em;\"></span></span><span style=\"display: inline-block; width: 0px; height: 3.982em;\"></span></span><span style=\"position: absolute; top: -4.334em; left: 0.513em;\"><span class=\"texatom\" id=\"MathJax-Span-4383\"><span class=\"mrow\" id=\"MathJax-Span-4384\"><span class=\"mi\" id=\"MathJax-Span-4385\" style=\"font-size: 70.7%; font-family: MathJax_Math-italic;\">l</span><span class=\"mo\" id=\"MathJax-Span-4386\" style=\"font-size: 70.7%; font-family: MathJax_Main;\">+</span><span class=\"mn\" id=\"MathJax-Span-4387\" style=\"font-size: 70.7%; font-family: MathJax_Main;\">1</span></span></span><span style=\"display: inline-block; width: 0px; height: 3.982em;\"></span></span></span></span><span class=\"mo\" id=\"MathJax-Span-4388\" style=\"font-family: MathJax_Main;\">)</span><span class=\"mo\" id=\"MathJax-Span-4389\" style=\"font-family: MathJax_Main; padding-left: 0.207em;\">⊙</span><span class=\"msup\" id=\"MathJax-Span-4390\" style=\"padding-left: 0.207em;\"><span style=\"display: inline-block; position: relative; width: 0.87em; height: 0px;\"><span style=\"position: absolute; clip: rect(3.421em, 1000.56em, 4.135em, -999.997em); top: -3.977em; left: 0em;\"><span class=\"mi\" id=\"MathJax-Span-4391\" style=\"font-family: MathJax_Math-italic;\">σ<span style=\"display: inline-block; overflow: hidden; height: 1px; width: 0.003em;\"></span></span><span style=\"display: inline-block; width: 0px; height: 3.982em;\"></span></span><span style=\"position: absolute; top: -4.334em; left: 0.615em;\"><span class=\"mo\" id=\"MathJax-Span-4392\" style=\"font-size: 70.7%; font-family: MathJax_Main;\">′</span><span style=\"display: inline-block; width: 0px; height: 3.982em;\"></span></span></span></span><span class=\"mo\" id=\"MathJax-Span-4393\" style=\"font-family: MathJax_Main;\">(</span><span class=\"msubsup\" id=\"MathJax-Span-4394\"><span style=\"display: inline-block; position: relative; width: 0.819em; height: 0px;\"><span style=\"position: absolute; clip: rect(3.37em, 1000.46em, 4.135em, -999.997em); top: -3.977em; left: 0em;\"><span class=\"mi\" id=\"MathJax-Span-4395\" style=\"font-family: MathJax_Math-italic;\">z<span style=\"display: inline-block; overflow: hidden; height: 1px; width: 0.003em;\"></span></span><span style=\"display: inline-block; width: 0px; height: 3.982em;\"></span></span><span style=\"position: absolute; top: -4.334em; left: 0.513em;\"><span class=\"texatom\" id=\"MathJax-Span-4396\"><span class=\"mrow\" id=\"MathJax-Span-4397\"><span class=\"mi\" id=\"MathJax-Span-4398\" style=\"font-size: 70.7%; font-family: MathJax_Math-italic;\">l</span></span></span><span style=\"display: inline-block; width: 0px; height: 3.982em;\"></span></span></span></span><span class=\"mo\" id=\"MathJax-Span-4399\" style=\"font-family: MathJax_Main;\">)</span></span><span style=\"display: inline-block; width: 0px; height: 2.196em;\"></span></span></span><span style=\"display: inline-block; overflow: hidden; vertical-align: -0.297em; border-left: 0px solid; width: 0px; height: 1.203em;\"></span></span></nobr><span class=\"MJX_Assistive_MathML\" role=\"presentation\"><math xmlns=\"http://www.w3.org/1998/Math/MathML\"><msup><mi>δ</mi><mrow class=\"MJX-TeXAtom-ORD\"><mi>l</mi></mrow></msup><mo>=</mo><mo stretchy=\"false\">(</mo><mo stretchy=\"false\">(</mo><msup><mi>w</mi><mrow class=\"MJX-TeXAtom-ORD\"><mi>l</mi><mo>+</mo><mn>1</mn></mrow></msup><msup><mo stretchy=\"false\">)</mo><mi>T</mi></msup><msup><mi>δ</mi><mrow class=\"MJX-TeXAtom-ORD\"><mi>l</mi><mo>+</mo><mn>1</mn></mrow></msup><mo stretchy=\"false\">)</mo><mo>⊙</mo><msup><mi>σ</mi><mo>′</mo></msup><mo stretchy=\"false\">(</mo><msup><mi>z</mi><mrow class=\"MJX-TeXAtom-ORD\"><mi>l</mi></mrow></msup><mo stretchy=\"false\">)</mo></math></span></span><script type=\"math/tex\" id=\"MathJax-Element-311\">\\delta^{l} = ((w^{l+1})^T \\delta^{l+1}) \\odot\n",
    "  \\sigma'(z^{l})</script>.<p></p><p></p></li><li> <strong>Output:</strong> The gradient of the cost function is given by\n",
    "  <span class=\"MathJax_Preview\" style=\"color: inherit; display: none;\"></span><span class=\"MathJax\" id=\"MathJax-Element-312-Frame\" tabindex=\"0\" data-mathml=\"<math xmlns=&quot;http://www.w3.org/1998/Math/MathML&quot;><mfrac><mrow><mi mathvariant=&quot;normal&quot;>&amp;#x2202;</mi><mi>C</mi></mrow><mrow><mi mathvariant=&quot;normal&quot;>&amp;#x2202;</mi><msubsup><mi>w</mi><mrow class=&quot;MJX-TeXAtom-ORD&quot;><mi>j</mi><mi>k</mi></mrow><mi>l</mi></msubsup></mrow></mfrac><mo>=</mo><msubsup><mi>a</mi><mi>k</mi><mrow class=&quot;MJX-TeXAtom-ORD&quot;><mi>l</mi><mo>&amp;#x2212;</mo><mn>1</mn></mrow></msubsup><msubsup><mi>&amp;#x03B4;</mi><mi>j</mi><mi>l</mi></msubsup></math>\" role=\"presentation\" style=\"position: relative;\"><nobr aria-hidden=\"true\"><span class=\"math\" id=\"MathJax-Span-4400\" style=\"width: 5.462em; display: inline-block;\"><span style=\"display: inline-block; position: relative; width: 5.564em; height: 0px; font-size: 98%;\"><span style=\"position: absolute; clip: rect(1.125em, 1005.56em, 3.166em, -999.997em); top: -2.191em; left: 0em;\"><span class=\"mrow\" id=\"MathJax-Span-4401\"><span class=\"mfrac\" id=\"MathJax-Span-4402\"><span style=\"display: inline-block; position: relative; width: 1.533em; height: 0px; margin-right: 0.105em; margin-left: 0.105em;\"><span style=\"position: absolute; clip: rect(3.319em, 1000.92em, 4.135em, -999.997em); top: -4.385em; left: 50%; margin-left: -0.457em;\"><span class=\"mrow\" id=\"MathJax-Span-4403\"><span class=\"mi\" id=\"MathJax-Span-4404\" style=\"font-size: 70.7%; font-family: MathJax_Main;\">∂<span style=\"display: inline-block; overflow: hidden; height: 1px; width: 0.003em;\"></span></span><span class=\"mi\" id=\"MathJax-Span-4405\" style=\"font-size: 70.7%; font-family: MathJax_Math-italic;\">C<span style=\"display: inline-block; overflow: hidden; height: 1px; width: 0.054em;\"></span></span></span><span style=\"display: inline-block; width: 0px; height: 3.982em;\"></span></span><span style=\"position: absolute; clip: rect(3.217em, 1001.43em, 4.492em, -999.997em); top: -3.467em; left: 50%; margin-left: -0.712em;\"><span class=\"mrow\" id=\"MathJax-Span-4406\"><span class=\"mi\" id=\"MathJax-Span-4407\" style=\"font-size: 70.7%; font-family: MathJax_Main;\">∂<span style=\"display: inline-block; overflow: hidden; height: 1px; width: 0.003em;\"></span></span><span class=\"msubsup\" id=\"MathJax-Span-4408\"><span style=\"display: inline-block; position: relative; width: 1.023em; height: 0px;\"><span style=\"position: absolute; clip: rect(3.523em, 1000.51em, 4.135em, -999.997em); top: -3.977em; left: 0em;\"><span class=\"mi\" id=\"MathJax-Span-4409\" style=\"font-size: 70.7%; font-family: MathJax_Math-italic;\">w</span><span style=\"display: inline-block; width: 0px; height: 3.982em;\"></span></span><span style=\"position: absolute; clip: rect(3.472em, 1000.21em, 4.135em, -999.997em); top: -4.232em; left: 0.513em;\"><span class=\"mi\" id=\"MathJax-Span-4410\" style=\"font-size: 50%; font-family: MathJax_Math-italic;\">l</span><span style=\"display: inline-block; width: 0px; height: 3.982em;\"></span></span><span style=\"position: absolute; clip: rect(3.472em, 1000.51em, 4.237em, -999.997em); top: -3.722em; left: 0.513em;\"><span class=\"texatom\" id=\"MathJax-Span-4411\"><span class=\"mrow\" id=\"MathJax-Span-4412\"><span class=\"mi\" id=\"MathJax-Span-4413\" style=\"font-size: 50%; font-family: MathJax_Math-italic;\">j</span><span class=\"mi\" id=\"MathJax-Span-4414\" style=\"font-size: 50%; font-family: MathJax_Math-italic;\">k</span></span></span><span style=\"display: inline-block; width: 0px; height: 3.982em;\"></span></span></span></span></span><span style=\"display: inline-block; width: 0px; height: 3.982em;\"></span></span><span style=\"position: absolute; clip: rect(0.87em, 1001.53em, 1.227em, -999.997em); top: -1.273em; left: 0em;\"><span style=\"display: inline-block; overflow: hidden; vertical-align: 0em; border-top: 1.3px solid; width: 1.533em; height: 0px;\"></span><span style=\"display: inline-block; width: 0px; height: 1.074em;\"></span></span></span></span><span class=\"mo\" id=\"MathJax-Span-4415\" style=\"font-family: MathJax_Main; padding-left: 0.258em;\">=</span><span class=\"msubsup\" id=\"MathJax-Span-4416\" style=\"padding-left: 0.258em;\"><span style=\"display: inline-block; position: relative; width: 1.737em; height: 0px;\"><span style=\"position: absolute; clip: rect(3.37em, 1000.51em, 4.135em, -999.997em); top: -3.977em; left: 0em;\"><span class=\"mi\" id=\"MathJax-Span-4417\" style=\"font-family: MathJax_Math-italic;\">a</span><span style=\"display: inline-block; width: 0px; height: 3.982em;\"></span></span><span style=\"position: absolute; clip: rect(3.319em, 1001.18em, 4.186em, -999.997em); top: -4.385em; left: 0.513em;\"><span class=\"texatom\" id=\"MathJax-Span-4418\"><span class=\"mrow\" id=\"MathJax-Span-4419\"><span class=\"mi\" id=\"MathJax-Span-4420\" style=\"font-size: 70.7%; font-family: MathJax_Math-italic;\">l</span><span class=\"mo\" id=\"MathJax-Span-4421\" style=\"font-size: 70.7%; font-family: MathJax_Main;\">−</span><span class=\"mn\" id=\"MathJax-Span-4422\" style=\"font-size: 70.7%; font-family: MathJax_Main;\">1</span></span></span><span style=\"display: inline-block; width: 0px; height: 3.982em;\"></span></span><span style=\"position: absolute; clip: rect(3.319em, 1000.46em, 4.135em, -999.997em); top: -3.671em; left: 0.513em;\"><span class=\"mi\" id=\"MathJax-Span-4423\" style=\"font-size: 70.7%; font-family: MathJax_Math-italic;\">k</span><span style=\"display: inline-block; width: 0px; height: 3.982em;\"></span></span></span></span><span class=\"msubsup\" id=\"MathJax-Span-4424\"><span style=\"display: inline-block; position: relative; width: 0.819em; height: 0px;\"><span style=\"position: absolute; clip: rect(3.115em, 1000.46em, 4.135em, -999.997em); top: -3.977em; left: 0em;\"><span class=\"mi\" id=\"MathJax-Span-4425\" style=\"font-family: MathJax_Math-italic;\">δ<span style=\"display: inline-block; overflow: hidden; height: 1px; width: 0.003em;\"></span></span><span style=\"display: inline-block; width: 0px; height: 3.982em;\"></span></span><span style=\"position: absolute; clip: rect(3.319em, 1000.31em, 4.135em, -999.997em); top: -4.334em; left: 0.513em;\"><span class=\"mi\" id=\"MathJax-Span-4426\" style=\"font-size: 70.7%; font-family: MathJax_Math-italic;\">l</span><span style=\"display: inline-block; width: 0px; height: 3.982em;\"></span></span><span style=\"position: absolute; clip: rect(3.37em, 1000.36em, 4.288em, -999.997em); top: -3.671em; left: 0.462em;\"><span class=\"mi\" id=\"MathJax-Span-4427\" style=\"font-size: 70.7%; font-family: MathJax_Math-italic;\">j</span><span style=\"display: inline-block; width: 0px; height: 3.982em;\"></span></span></span></span></span><span style=\"display: inline-block; width: 0px; height: 2.196em;\"></span></span></span><span style=\"display: inline-block; overflow: hidden; vertical-align: -0.847em; border-left: 0px solid; width: 0px; height: 1.852em;\"></span></span></nobr><span class=\"MJX_Assistive_MathML\" role=\"presentation\"><math xmlns=\"http://www.w3.org/1998/Math/MathML\"><mfrac><mrow><mi mathvariant=\"normal\">∂</mi><mi>C</mi></mrow><mrow><mi mathvariant=\"normal\">∂</mi><msubsup><mi>w</mi><mrow class=\"MJX-TeXAtom-ORD\"><mi>j</mi><mi>k</mi></mrow><mi>l</mi></msubsup></mrow></mfrac><mo>=</mo><msubsup><mi>a</mi><mi>k</mi><mrow class=\"MJX-TeXAtom-ORD\"><mi>l</mi><mo>−</mo><mn>1</mn></mrow></msubsup><msubsup><mi>δ</mi><mi>j</mi><mi>l</mi></msubsup></math></span></span><script type=\"math/tex\" id=\"MathJax-Element-312\">\\frac{\\partial C}{\\partial w^l_{jk}} = a^{l-1}_k \\delta^l_j</script> and\n",
    "  <span class=\"MathJax_Preview\" style=\"color: inherit; display: none;\"></span><span class=\"MathJax\" id=\"MathJax-Element-313-Frame\" tabindex=\"0\" data-mathml=\"<math xmlns=&quot;http://www.w3.org/1998/Math/MathML&quot;><mfrac><mrow><mi mathvariant=&quot;normal&quot;>&amp;#x2202;</mi><mi>C</mi></mrow><mrow><mi mathvariant=&quot;normal&quot;>&amp;#x2202;</mi><msubsup><mi>b</mi><mi>j</mi><mi>l</mi></msubsup></mrow></mfrac><mo>=</mo><msubsup><mi>&amp;#x03B4;</mi><mi>j</mi><mi>l</mi></msubsup></math>\" role=\"presentation\" style=\"position: relative;\"><nobr aria-hidden=\"true\"><span class=\"math\" id=\"MathJax-Span-4428\" style=\"width: 3.319em; display: inline-block;\"><span style=\"display: inline-block; position: relative; width: 3.37em; height: 0px; font-size: 98%;\"><span style=\"position: absolute; clip: rect(1.125em, 1003.37em, 3.166em, -999.997em); top: -2.191em; left: 0em;\"><span class=\"mrow\" id=\"MathJax-Span-4429\"><span class=\"mfrac\" id=\"MathJax-Span-4430\"><span style=\"display: inline-block; position: relative; width: 1.074em; height: 0px; margin-right: 0.105em; margin-left: 0.105em;\"><span style=\"position: absolute; clip: rect(3.319em, 1000.92em, 4.135em, -999.997em); top: -4.385em; left: 50%; margin-left: -0.457em;\"><span class=\"mrow\" id=\"MathJax-Span-4431\"><span class=\"mi\" id=\"MathJax-Span-4432\" style=\"font-size: 70.7%; font-family: MathJax_Main;\">∂<span style=\"display: inline-block; overflow: hidden; height: 1px; width: 0.003em;\"></span></span><span class=\"mi\" id=\"MathJax-Span-4433\" style=\"font-size: 70.7%; font-family: MathJax_Math-italic;\">C<span style=\"display: inline-block; overflow: hidden; height: 1px; width: 0.054em;\"></span></span></span><span style=\"display: inline-block; width: 0px; height: 3.982em;\"></span></span><span style=\"position: absolute; clip: rect(3.166em, 1000.97em, 4.39em, -999.997em); top: -3.416em; left: 50%; margin-left: -0.457em;\"><span class=\"mrow\" id=\"MathJax-Span-4434\"><span class=\"mi\" id=\"MathJax-Span-4435\" style=\"font-size: 70.7%; font-family: MathJax_Main;\">∂<span style=\"display: inline-block; overflow: hidden; height: 1px; width: 0.003em;\"></span></span><span class=\"msubsup\" id=\"MathJax-Span-4436\"><span style=\"display: inline-block; position: relative; width: 0.564em; height: 0px;\"><span style=\"position: absolute; clip: rect(3.319em, 1000.31em, 4.135em, -999.997em); top: -3.977em; left: 0em;\"><span class=\"mi\" id=\"MathJax-Span-4437\" style=\"font-size: 70.7%; font-family: MathJax_Math-italic;\">b</span><span style=\"display: inline-block; width: 0px; height: 3.982em;\"></span></span><span style=\"position: absolute; clip: rect(3.472em, 1000.21em, 4.135em, -999.997em); top: -4.283em; left: 0.309em;\"><span class=\"mi\" id=\"MathJax-Span-4438\" style=\"font-size: 50%; font-family: MathJax_Math-italic;\">l</span><span style=\"display: inline-block; width: 0px; height: 3.982em;\"></span></span><span style=\"position: absolute; clip: rect(3.523em, 1000.26em, 4.237em, -999.997em); top: -3.824em; left: 0.309em;\"><span class=\"mi\" id=\"MathJax-Span-4439\" style=\"font-size: 50%; font-family: MathJax_Math-italic;\">j</span><span style=\"display: inline-block; width: 0px; height: 3.982em;\"></span></span></span></span></span><span style=\"display: inline-block; width: 0px; height: 3.982em;\"></span></span><span style=\"position: absolute; clip: rect(0.87em, 1001.07em, 1.227em, -999.997em); top: -1.273em; left: 0em;\"><span style=\"display: inline-block; overflow: hidden; vertical-align: 0em; border-top: 1.3px solid; width: 1.074em; height: 0px;\"></span><span style=\"display: inline-block; width: 0px; height: 1.074em;\"></span></span></span></span><span class=\"mo\" id=\"MathJax-Span-4440\" style=\"font-family: MathJax_Main; padding-left: 0.258em;\">=</span><span class=\"msubsup\" id=\"MathJax-Span-4441\" style=\"padding-left: 0.258em;\"><span style=\"display: inline-block; position: relative; width: 0.819em; height: 0px;\"><span style=\"position: absolute; clip: rect(3.115em, 1000.46em, 4.135em, -999.997em); top: -3.977em; left: 0em;\"><span class=\"mi\" id=\"MathJax-Span-4442\" style=\"font-family: MathJax_Math-italic;\">δ<span style=\"display: inline-block; overflow: hidden; height: 1px; width: 0.003em;\"></span></span><span style=\"display: inline-block; width: 0px; height: 3.982em;\"></span></span><span style=\"position: absolute; clip: rect(3.319em, 1000.31em, 4.135em, -999.997em); top: -4.334em; left: 0.513em;\"><span class=\"mi\" id=\"MathJax-Span-4443\" style=\"font-size: 70.7%; font-family: MathJax_Math-italic;\">l</span><span style=\"display: inline-block; width: 0px; height: 3.982em;\"></span></span><span style=\"position: absolute; clip: rect(3.37em, 1000.36em, 4.288em, -999.997em); top: -3.671em; left: 0.462em;\"><span class=\"mi\" id=\"MathJax-Span-4444\" style=\"font-size: 70.7%; font-family: MathJax_Math-italic;\">j</span><span style=\"display: inline-block; width: 0px; height: 3.982em;\"></span></span></span></span></span><span style=\"display: inline-block; width: 0px; height: 2.196em;\"></span></span></span><span style=\"display: inline-block; overflow: hidden; vertical-align: -0.847em; border-left: 0px solid; width: 0px; height: 1.802em;\"></span></span></nobr><span class=\"MJX_Assistive_MathML\" role=\"presentation\"><math xmlns=\"http://www.w3.org/1998/Math/MathML\"><mfrac><mrow><mi mathvariant=\"normal\">∂</mi><mi>C</mi></mrow><mrow><mi mathvariant=\"normal\">∂</mi><msubsup><mi>b</mi><mi>j</mi><mi>l</mi></msubsup></mrow></mfrac><mo>=</mo><msubsup><mi>δ</mi><mi>j</mi><mi>l</mi></msubsup></math></span></span><script type=\"math/tex\" id=\"MathJax-Element-313\">\\frac{\\partial C}{\\partial b^l_j} = \\delta^l_j</script>.\n",
    "</li></ol></big></big>"
   ]
  },
  {
   "cell_type": "markdown",
   "metadata": {},
   "source": [
    "## Gradient descent\n",
    "<big><big><strong><b> For each <span class=\"MathJax_Preview\" style=\"color: inherit; display: none;\"></span><span class=\"MathJax\" id=\"MathJax-Element-330-Frame\" tabindex=\"0\" data-mathml=\"<math xmlns=&quot;http://www.w3.org/1998/Math/MathML&quot;><mi>l</mi><mo>=</mo><mi>L</mi><mo>,</mo><mi>L</mi><mo>&amp;#x2212;</mo><mn>1</mn><mo>,</mo><mo>&amp;#x2026;</mo><mo>,</mo><mn>2</mn></math>\" role=\"presentation\" style=\"position: relative;\"><nobr aria-hidden=\"true\"><span class=\"math\" id=\"MathJax-Span-4657\" style=\"width: 7.605em; display: inline-block;\"><span style=\"display: inline-block; position: relative; width: 7.758em; height: 0px; font-size: 98%;\"><span style=\"position: absolute; clip: rect(1.329em, 1007.71em, 2.554em, -999.997em); top: -2.191em; left: 0em;\"><span class=\"mrow\" id=\"MathJax-Span-4658\"><span class=\"mi\" id=\"MathJax-Span-4659\" style=\"font-family: MathJax_Math-italic;\">l</span><span class=\"mo\" id=\"MathJax-Span-4660\" style=\"font-family: MathJax_Main; padding-left: 0.258em;\">=</span><span class=\"mi\" id=\"MathJax-Span-4661\" style=\"font-family: MathJax_Math-italic; padding-left: 0.258em;\">L</span><span class=\"mo\" id=\"MathJax-Span-4662\" style=\"font-family: MathJax_Main;\">,</span><span class=\"mi\" id=\"MathJax-Span-4663\" style=\"font-family: MathJax_Math-italic; padding-left: 0.156em;\">L</span><span class=\"mo\" id=\"MathJax-Span-4664\" style=\"font-family: MathJax_Main; padding-left: 0.207em;\">−</span><span class=\"mn\" id=\"MathJax-Span-4665\" style=\"font-family: MathJax_Main; padding-left: 0.207em;\">1</span><span class=\"mo\" id=\"MathJax-Span-4666\" style=\"font-family: MathJax_Main;\">,</span><span class=\"mo\" id=\"MathJax-Span-4667\" style=\"font-family: MathJax_Main; padding-left: 0.156em;\">…</span><span class=\"mo\" id=\"MathJax-Span-4668\" style=\"font-family: MathJax_Main; padding-left: 0.156em;\">,</span><span class=\"mn\" id=\"MathJax-Span-4669\" style=\"font-family: MathJax_Main; padding-left: 0.156em;\">2</span></span><span style=\"display: inline-block; width: 0px; height: 2.196em;\"></span></span></span><span style=\"display: inline-block; overflow: hidden; vertical-align: -0.247em; border-left: 0px solid; width: 0px; height: 0.953em;\"></span></span></nobr><span class=\"MJX_Assistive_MathML\" role=\"presentation\"><math xmlns=\"http://www.w3.org/1998/Math/MathML\"><mi>l</mi><mo>=</mo><mi>L</mi><mo>,</mo><mi>L</mi><mo>−</mo><mn>1</mn><mo>,</mo><mo>…</mo><mo>,</mo><mn>2</mn></math></span></span><script type=\"math/tex\" id=\"MathJax-Element-330\">l = L, L-1, \\ldots, 2</script>\n",
    "    <br>\n",
    "    <b>update the weights according to the rule</b> <br><span class=\"MathJax_Preview\" style=\"color: inherit; display: none;\"></span><span class=\"MathJax\" id=\"MathJax-Element-331-Frame\" tabindex=\"0\" data-mathml=\"<math xmlns=&quot;http://www.w3.org/1998/Math/MathML&quot;><msup><mi>w</mi><mi>l</mi></msup><mo stretchy=&quot;false&quot;>&amp;#x2192;</mo><msup><mi>w</mi><mi>l</mi></msup><mo>&amp;#x2212;</mo><mfrac><mi>&amp;#x03B7;</mi><mi>m</mi></mfrac><munder><mo>&amp;#x2211;</mo><mi>x</mi></munder><msup><mi>&amp;#x03B4;</mi><mrow class=&quot;MJX-TeXAtom-ORD&quot;><mi>x</mi><mo>,</mo><mi>l</mi></mrow></msup><mo stretchy=&quot;false&quot;>(</mo><msup><mi>a</mi><mrow class=&quot;MJX-TeXAtom-ORD&quot;><mi>x</mi><mo>,</mo><mi>l</mi><mo>&amp;#x2212;</mo><mn>1</mn></mrow></msup><msup><mo stretchy=&quot;false&quot;>)</mo><mi>T</mi></msup></math>\" role=\"presentation\" style=\"position: relative;\"><nobr aria-hidden=\"true\"><span class=\"math\" id=\"MathJax-Span-4670\" style=\"width: 12.349em; display: inline-block;\"><span style=\"display: inline-block; position: relative; width: 12.605em; height: 0px; font-size: 98%;\"><span style=\"position: absolute; clip: rect(1.176em, 1012.61em, 2.707em, -999.997em); top: -2.191em; left: 0em;\"><span class=\"mrow\" id=\"MathJax-Span-4671\"><span class=\"msubsup\" id=\"MathJax-Span-4672\"><span style=\"display: inline-block; position: relative; width: 1.023em; height: 0px;\"><span style=\"position: absolute; clip: rect(3.37em, 1000.72em, 4.135em, -999.997em); top: -3.977em; left: 0em;\"><span class=\"mi\" id=\"MathJax-Span-4673\" style=\"font-family: MathJax_Math-italic;\">w</span><span style=\"display: inline-block; width: 0px; height: 3.982em;\"></span></span><span style=\"position: absolute; top: -4.334em; left: 0.717em;\"><span class=\"mi\" id=\"MathJax-Span-4674\" style=\"font-size: 70.7%; font-family: MathJax_Math-italic;\">l</span><span style=\"display: inline-block; width: 0px; height: 3.982em;\"></span></span></span></span><span class=\"mo\" id=\"MathJax-Span-4675\" style=\"font-family: MathJax_Main; padding-left: 0.258em;\">→</span><span class=\"msubsup\" id=\"MathJax-Span-4676\" style=\"padding-left: 0.258em;\"><span style=\"display: inline-block; position: relative; width: 1.023em; height: 0px;\"><span style=\"position: absolute; clip: rect(3.37em, 1000.72em, 4.135em, -999.997em); top: -3.977em; left: 0em;\"><span class=\"mi\" id=\"MathJax-Span-4677\" style=\"font-family: MathJax_Math-italic;\">w</span><span style=\"display: inline-block; width: 0px; height: 3.982em;\"></span></span><span style=\"position: absolute; top: -4.334em; left: 0.717em;\"><span class=\"mi\" id=\"MathJax-Span-4678\" style=\"font-size: 70.7%; font-family: MathJax_Math-italic;\">l</span><span style=\"display: inline-block; width: 0px; height: 3.982em;\"></span></span></span></span><span class=\"mo\" id=\"MathJax-Span-4679\" style=\"font-family: MathJax_Main; padding-left: 0.207em;\">−</span><span class=\"mfrac\" id=\"MathJax-Span-4680\" style=\"padding-left: 0.207em;\"><span style=\"display: inline-block; position: relative; width: 0.768em; height: 0px; margin-right: 0.105em; margin-left: 0.105em;\"><span style=\"position: absolute; clip: rect(3.523em, 1000.36em, 4.288em, -999.997em); top: -4.538em; left: 50%; margin-left: -0.151em;\"><span class=\"mi\" id=\"MathJax-Span-4681\" style=\"font-size: 70.7%; font-family: MathJax_Math-italic;\">η<span style=\"display: inline-block; overflow: hidden; height: 1px; width: 0.003em;\"></span></span><span style=\"display: inline-block; width: 0px; height: 3.982em;\"></span></span><span style=\"position: absolute; clip: rect(3.523em, 1000.62em, 4.135em, -999.997em); top: -3.62em; left: 50%; margin-left: -0.304em;\"><span class=\"mi\" id=\"MathJax-Span-4682\" style=\"font-size: 70.7%; font-family: MathJax_Math-italic;\">m</span><span style=\"display: inline-block; width: 0px; height: 3.982em;\"></span></span><span style=\"position: absolute; clip: rect(0.87em, 1000.77em, 1.227em, -999.997em); top: -1.273em; left: 0em;\"><span style=\"display: inline-block; overflow: hidden; vertical-align: 0em; border-top: 1.3px solid; width: 0.768em; height: 0px;\"></span><span style=\"display: inline-block; width: 0px; height: 1.074em;\"></span></span></span></span><span class=\"munderover\" id=\"MathJax-Span-4683\" style=\"padding-left: 0.156em;\"><span style=\"display: inline-block; position: relative; width: 1.533em; height: 0px;\"><span style=\"position: absolute; clip: rect(3.064em, 1001.02em, 4.39em, -999.997em); top: -3.977em; left: 0em;\"><span class=\"mo\" id=\"MathJax-Span-4684\" style=\"font-family: MathJax_Size1; vertical-align: 0em;\">∑</span><span style=\"display: inline-block; width: 0px; height: 3.982em;\"></span></span><span style=\"position: absolute; top: -3.671em; left: 1.074em;\"><span class=\"mi\" id=\"MathJax-Span-4685\" style=\"font-size: 70.7%; font-family: MathJax_Math-italic;\">x</span><span style=\"display: inline-block; width: 0px; height: 3.982em;\"></span></span></span></span><span class=\"msubsup\" id=\"MathJax-Span-4686\" style=\"padding-left: 0.156em;\"><span style=\"display: inline-block; position: relative; width: 1.38em; height: 0px;\"><span style=\"position: absolute; clip: rect(3.115em, 1000.46em, 4.135em, -999.997em); top: -3.977em; left: 0em;\"><span class=\"mi\" id=\"MathJax-Span-4687\" style=\"font-family: MathJax_Math-italic;\">δ<span style=\"display: inline-block; overflow: hidden; height: 1px; width: 0.003em;\"></span></span><span style=\"display: inline-block; width: 0px; height: 3.982em;\"></span></span><span style=\"position: absolute; top: -4.334em; left: 0.513em;\"><span class=\"texatom\" id=\"MathJax-Span-4688\"><span class=\"mrow\" id=\"MathJax-Span-4689\"><span class=\"mi\" id=\"MathJax-Span-4690\" style=\"font-size: 70.7%; font-family: MathJax_Math-italic;\">x</span><span class=\"mo\" id=\"MathJax-Span-4691\" style=\"font-size: 70.7%; font-family: MathJax_Main;\">,</span><span class=\"mi\" id=\"MathJax-Span-4692\" style=\"font-size: 70.7%; font-family: MathJax_Math-italic;\">l</span></span></span><span style=\"display: inline-block; width: 0px; height: 3.982em;\"></span></span></span></span><span class=\"mo\" id=\"MathJax-Span-4693\" style=\"font-family: MathJax_Main;\">(</span><span class=\"msubsup\" id=\"MathJax-Span-4694\"><span style=\"display: inline-block; position: relative; width: 2.298em; height: 0px;\"><span style=\"position: absolute; clip: rect(3.37em, 1000.51em, 4.135em, -999.997em); top: -3.977em; left: 0em;\"><span class=\"mi\" id=\"MathJax-Span-4695\" style=\"font-family: MathJax_Math-italic;\">a</span><span style=\"display: inline-block; width: 0px; height: 3.982em;\"></span></span><span style=\"position: absolute; top: -4.334em; left: 0.513em;\"><span class=\"texatom\" id=\"MathJax-Span-4696\"><span class=\"mrow\" id=\"MathJax-Span-4697\"><span class=\"mi\" id=\"MathJax-Span-4698\" style=\"font-size: 70.7%; font-family: MathJax_Math-italic;\">x</span><span class=\"mo\" id=\"MathJax-Span-4699\" style=\"font-size: 70.7%; font-family: MathJax_Main;\">,</span><span class=\"mi\" id=\"MathJax-Span-4700\" style=\"font-size: 70.7%; font-family: MathJax_Math-italic;\">l</span><span class=\"mo\" id=\"MathJax-Span-4701\" style=\"font-size: 70.7%; font-family: MathJax_Main;\">−</span><span class=\"mn\" id=\"MathJax-Span-4702\" style=\"font-size: 70.7%; font-family: MathJax_Main;\">1</span></span></span><span style=\"display: inline-block; width: 0px; height: 3.982em;\"></span></span></span></span><span class=\"msubsup\" id=\"MathJax-Span-4703\"><span style=\"display: inline-block; position: relative; width: 0.972em; height: 0px;\"><span style=\"position: absolute; clip: rect(3.064em, 1000.31em, 4.39em, -999.997em); top: -3.977em; left: 0em;\"><span class=\"mo\" id=\"MathJax-Span-4704\" style=\"font-family: MathJax_Main;\">)</span><span style=\"display: inline-block; width: 0px; height: 3.982em;\"></span></span><span style=\"position: absolute; top: -4.334em; left: 0.411em;\"><span class=\"mi\" id=\"MathJax-Span-4705\" style=\"font-size: 70.7%; font-family: MathJax_Math-italic;\">T<span style=\"display: inline-block; overflow: hidden; height: 1px; width: 0.105em;\"></span></span><span style=\"display: inline-block; width: 0px; height: 3.982em;\"></span></span></span></span></span><span style=\"display: inline-block; width: 0px; height: 2.196em;\"></span></span></span><span style=\"display: inline-block; overflow: hidden; vertical-align: -0.398em; border-left: 0px solid; width: 0px; height: 1.302em;\"></span></span></nobr><span class=\"MJX_Assistive_MathML\" role=\"presentation\"><math xmlns=\"http://www.w3.org/1998/Math/MathML\"><msup><mi>w</mi><mi>l</mi></msup><mo stretchy=\"false\">→</mo><msup><mi>w</mi><mi>l</mi></msup><mo>−</mo><mfrac><mi>η</mi><mi>m</mi></mfrac><munder><mo>∑</mo><mi>x</mi></munder><msup><mi>δ</mi><mrow class=\"MJX-TeXAtom-ORD\"><mi>x</mi><mo>,</mo><mi>l</mi></mrow></msup><mo stretchy=\"false\">(</mo><msup><mi>a</mi><mrow class=\"MJX-TeXAtom-ORD\"><mi>x</mi><mo>,</mo><mi>l</mi><mo>−</mo><mn>1</mn></mrow></msup><msup><mo stretchy=\"false\">)</mo><mi>T</mi></msup></math></span></span><script type=\"math/tex\" id=\"MathJax-Element-331\">w^l \\rightarrow\n",
    "  w^l-\\frac{\\eta}{m} \\sum_x \\delta^{x,l} (a^{x,l-1})^T</script>, and the\n",
    "  biases according to the rule <span class=\"MathJax_Preview\" style=\"color: inherit; display: none;\"></span><span class=\"MathJax\" id=\"MathJax-Element-332-Frame\" tabindex=\"0\" data-mathml=\"<math xmlns=&quot;http://www.w3.org/1998/Math/MathML&quot;><msup><mi>b</mi><mi>l</mi></msup><mo stretchy=&quot;false&quot;>&amp;#x2192;</mo><msup><mi>b</mi><mi>l</mi></msup><mo>&amp;#x2212;</mo><mfrac><mi>&amp;#x03B7;</mi><mi>m</mi></mfrac><munder><mo>&amp;#x2211;</mo><mi>x</mi></munder><msup><mi>&amp;#x03B4;</mi><mrow class=&quot;MJX-TeXAtom-ORD&quot;><mi>x</mi><mo>,</mo><mi>l</mi></mrow></msup></math>\" role=\"presentation\" style=\"position: relative;\"><nobr aria-hidden=\"true\"><span class=\"math\" id=\"MathJax-Span-4706\" style=\"width: 8.166em; display: inline-block;\"><span style=\"display: inline-block; position: relative; width: 8.319em; height: 0px; font-size: 98%;\"><span style=\"position: absolute; clip: rect(1.176em, 1008.32em, 2.707em, -999.997em); top: -2.191em; left: 0em;\"><span class=\"mrow\" id=\"MathJax-Span-4707\"><span class=\"msubsup\" id=\"MathJax-Span-4708\"><span style=\"display: inline-block; position: relative; width: 0.717em; height: 0px;\"><span style=\"position: absolute; clip: rect(3.115em, 1000.41em, 4.135em, -999.997em); top: -3.977em; left: 0em;\"><span class=\"mi\" id=\"MathJax-Span-4709\" style=\"font-family: MathJax_Math-italic;\">b</span><span style=\"display: inline-block; width: 0px; height: 3.982em;\"></span></span><span style=\"position: absolute; top: -4.334em; left: 0.411em;\"><span class=\"mi\" id=\"MathJax-Span-4710\" style=\"font-size: 70.7%; font-family: MathJax_Math-italic;\">l</span><span style=\"display: inline-block; width: 0px; height: 3.982em;\"></span></span></span></span><span class=\"mo\" id=\"MathJax-Span-4711\" style=\"font-family: MathJax_Main; padding-left: 0.258em;\">→</span><span class=\"msubsup\" id=\"MathJax-Span-4712\" style=\"padding-left: 0.258em;\"><span style=\"display: inline-block; position: relative; width: 0.717em; height: 0px;\"><span style=\"position: absolute; clip: rect(3.115em, 1000.41em, 4.135em, -999.997em); top: -3.977em; left: 0em;\"><span class=\"mi\" id=\"MathJax-Span-4713\" style=\"font-family: MathJax_Math-italic;\">b</span><span style=\"display: inline-block; width: 0px; height: 3.982em;\"></span></span><span style=\"position: absolute; top: -4.334em; left: 0.411em;\"><span class=\"mi\" id=\"MathJax-Span-4714\" style=\"font-size: 70.7%; font-family: MathJax_Math-italic;\">l</span><span style=\"display: inline-block; width: 0px; height: 3.982em;\"></span></span></span></span><span class=\"mo\" id=\"MathJax-Span-4715\" style=\"font-family: MathJax_Main; padding-left: 0.207em;\">−</span><span class=\"mfrac\" id=\"MathJax-Span-4716\" style=\"padding-left: 0.207em;\"><span style=\"display: inline-block; position: relative; width: 0.768em; height: 0px; margin-right: 0.105em; margin-left: 0.105em;\"><span style=\"position: absolute; clip: rect(3.523em, 1000.36em, 4.288em, -999.997em); top: -4.538em; left: 50%; margin-left: -0.151em;\"><span class=\"mi\" id=\"MathJax-Span-4717\" style=\"font-size: 70.7%; font-family: MathJax_Math-italic;\">η<span style=\"display: inline-block; overflow: hidden; height: 1px; width: 0.003em;\"></span></span><span style=\"display: inline-block; width: 0px; height: 3.982em;\"></span></span><span style=\"position: absolute; clip: rect(3.523em, 1000.62em, 4.135em, -999.997em); top: -3.62em; left: 50%; margin-left: -0.304em;\"><span class=\"mi\" id=\"MathJax-Span-4718\" style=\"font-size: 70.7%; font-family: MathJax_Math-italic;\">m</span><span style=\"display: inline-block; width: 0px; height: 3.982em;\"></span></span><span style=\"position: absolute; clip: rect(0.87em, 1000.77em, 1.227em, -999.997em); top: -1.273em; left: 0em;\"><span style=\"display: inline-block; overflow: hidden; vertical-align: 0em; border-top: 1.3px solid; width: 0.768em; height: 0px;\"></span><span style=\"display: inline-block; width: 0px; height: 1.074em;\"></span></span></span></span><span class=\"munderover\" id=\"MathJax-Span-4719\" style=\"padding-left: 0.156em;\"><span style=\"display: inline-block; position: relative; width: 1.533em; height: 0px;\"><span style=\"position: absolute; clip: rect(3.064em, 1001.02em, 4.39em, -999.997em); top: -3.977em; left: 0em;\"><span class=\"mo\" id=\"MathJax-Span-4720\" style=\"font-family: MathJax_Size1; vertical-align: 0em;\">∑</span><span style=\"display: inline-block; width: 0px; height: 3.982em;\"></span></span><span style=\"position: absolute; top: -3.671em; left: 1.074em;\"><span class=\"mi\" id=\"MathJax-Span-4721\" style=\"font-size: 70.7%; font-family: MathJax_Math-italic;\">x</span><span style=\"display: inline-block; width: 0px; height: 3.982em;\"></span></span></span></span><span class=\"msubsup\" id=\"MathJax-Span-4722\" style=\"padding-left: 0.156em;\"><span style=\"display: inline-block; position: relative; width: 1.38em; height: 0px;\"><span style=\"position: absolute; clip: rect(3.115em, 1000.46em, 4.135em, -999.997em); top: -3.977em; left: 0em;\"><span class=\"mi\" id=\"MathJax-Span-4723\" style=\"font-family: MathJax_Math-italic;\">δ<span style=\"display: inline-block; overflow: hidden; height: 1px; width: 0.003em;\"></span></span><span style=\"display: inline-block; width: 0px; height: 3.982em;\"></span></span><span style=\"position: absolute; top: -4.334em; left: 0.513em;\"><span class=\"texatom\" id=\"MathJax-Span-4724\"><span class=\"mrow\" id=\"MathJax-Span-4725\"><span class=\"mi\" id=\"MathJax-Span-4726\" style=\"font-size: 70.7%; font-family: MathJax_Math-italic;\">x</span><span class=\"mo\" id=\"MathJax-Span-4727\" style=\"font-size: 70.7%; font-family: MathJax_Main;\">,</span><span class=\"mi\" id=\"MathJax-Span-4728\" style=\"font-size: 70.7%; font-family: MathJax_Math-italic;\">l</span></span></span><span style=\"display: inline-block; width: 0px; height: 3.982em;\"></span></span></span></span></span><span style=\"display: inline-block; width: 0px; height: 2.196em;\"></span></span></span><span style=\"display: inline-block; overflow: hidden; vertical-align: -0.398em; border-left: 0px solid; width: 0px; height: 1.302em;\"></span></span></nobr><span class=\"MJX_Assistive_MathML\" role=\"presentation\"><math xmlns=\"http://www.w3.org/1998/Math/MathML\"><msup><mi>b</mi><mi>l</mi></msup><mo stretchy=\"false\">→</mo><msup><mi>b</mi><mi>l</mi></msup><mo>−</mo><mfrac><mi>η</mi><mi>m</mi></mfrac><munder><mo>∑</mo><mi>x</mi></munder><msup><mi>δ</mi><mrow class=\"MJX-TeXAtom-ORD\"><mi>x</mi><mo>,</mo><mi>l</mi></mrow></msup></math></span></span><script type=\"math/tex\" id=\"MathJax-Element-332\">b^l \\rightarrow b^l-\\frac{\\eta}{m}\n",
    "  \\sum_x \\delta^{x,l}</script>.<p></p><p></p></li>\n",
    "![optimization_problem.png](images/optimization_problem.png) </big></big>"
   ]
  },
  {
   "cell_type": "markdown",
   "metadata": {},
   "source": [
    "## Backpropagation in action!\n",
    "![backprop](images/backpgif.gif \"backprop\")"
   ]
  },
  {
   "cell_type": "markdown",
   "metadata": {},
   "source": [
    "## Different types of Activation function"
   ]
  },
  {
   "cell_type": "markdown",
   "metadata": {},
   "source": [
    "![activation_fun.png](images/activation_fun.png)"
   ]
  },
  {
   "cell_type": "markdown",
   "metadata": {},
   "source": [
    "## Loss Function"
   ]
  },
  {
   "cell_type": "markdown",
   "metadata": {},
   "source": [
    "![loss_func.png](images/loss_func.png)"
   ]
  },
  {
   "cell_type": "markdown",
   "metadata": {},
   "source": [
    "=================================================================================================================="
   ]
  },
  {
   "cell_type": "markdown",
   "metadata": {},
   "source": [
    "![MiniBatch.png](images/MiniBatch.png)"
   ]
  },
  {
   "cell_type": "markdown",
   "metadata": {},
   "source": [
    "=================================================================================================================="
   ]
  },
  {
   "cell_type": "markdown",
   "metadata": {},
   "source": [
    "## Overfitting"
   ]
  },
  {
   "cell_type": "markdown",
   "metadata": {},
   "source": [
    "![Overfitting_regularization.png](images/Overfitting_regularization.png)"
   ]
  },
  {
   "cell_type": "markdown",
   "metadata": {},
   "source": [
    "![Overfitting2.png](images/Overfitting2.png)"
   ]
  },
  {
   "cell_type": "markdown",
   "metadata": {},
   "source": [
    "=================================================================================================================="
   ]
  },
  {
   "cell_type": "markdown",
   "metadata": {},
   "source": [
    "## Regularization : 1. Dropout"
   ]
  },
  {
   "cell_type": "markdown",
   "metadata": {},
   "source": [
    "![Regul_drop.png](images/Regul_drop.png)"
   ]
  },
  {
   "cell_type": "markdown",
   "metadata": {},
   "source": [
    "## 2.  Weight Penalty"
   ]
  },
  {
   "cell_type": "markdown",
   "metadata": {},
   "source": [
    "![regul_weight_decay.png](images/regul_weight_decay.png)"
   ]
  },
  {
   "cell_type": "markdown",
   "metadata": {},
   "source": [
    "=================================================================================================================="
   ]
  },
  {
   "cell_type": "markdown",
   "metadata": {},
   "source": [
    "## Normalization"
   ]
  },
  {
   "cell_type": "markdown",
   "metadata": {},
   "source": [
    "![Norm.png](images/Norm.png)"
   ]
  },
  {
   "cell_type": "markdown",
   "metadata": {
    "collapsed": true
   },
   "source": [
    "## Okay Enough!\n",
    "<img src=\"images/code.jpeg\" alt=\"Drawing\" style=\"width: 400px;\"/>\n"
   ]
  },
  {
   "cell_type": "markdown",
   "metadata": {},
   "source": [
    "### Let's Code a neural Network from scratch"
   ]
  },
  {
   "cell_type": "code",
   "execution_count": 3,
   "metadata": {},
   "outputs": [],
   "source": [
    "import numpy as np  \n",
    "#Define the Activation Function Sigmoid and its differential\n",
    "\n",
    "def sigmoid(t):\n",
    "    return 1/(1+np.exp(-t))\n",
    "\n",
    "def difsigmoid(d):\n",
    "    return d*(1-d)"
   ]
  },
  {
   "cell_type": "code",
   "execution_count": 91,
   "metadata": {},
   "outputs": [],
   "source": [
    "#Define a Neural Network Class\n",
    "class NN:\n",
    "    def __init__(self,x,y):\n",
    "        self.input= x\n",
    "        self.w1 = np.random.rand(self.input.shape[1],4)\n",
    "        self.w2 = np.random.rand(4,1)\n",
    "        self.y = y\n",
    "        self.output = np.zeros(y.shape)\n",
    "    \n",
    "    #Define the forward Pass\n",
    "    def ff(self):\n",
    "        self.l1 = sigmoid(np.dot(self.input,self.w1))\n",
    "        self.l2 = sigmoid(np.dot(self.l1, self.w2))\n",
    "        return self.l2\n",
    "    \n",
    "    #Define the Backward pass to backpropagate the errors\n",
    "    def backprop(self):\n",
    "        d_w2 = np.dot(self.l1.T,2*(self.y-self.output)*difsigmoid(self.output))\n",
    "        d_w1 = np.dot(self.input.T, np.dot(2*(self.y -self.output)*difsigmoid(self.output), self.w2.T)*difsigmoid(self.l1))\n",
    "        self.w1 += d_w1\n",
    "        self.w2 += d_w2\n",
    "    #Define the training step\n",
    "    def train(self,X,y):\n",
    "        self.output = self.ff()\n",
    "        self.backprop()\n",
    "        "
   ]
  },
  {
   "cell_type": "code",
   "execution_count": 92,
   "metadata": {},
   "outputs": [
    {
     "name": "stdout",
     "output_type": "stream",
     "text": [
      "for iteration # 0\n",
      "\n",
      "The Loss is: \n",
      "0.3246295143337549\n",
      "\n",
      "\n",
      "for iteration # 1000\n",
      "\n",
      "The Loss is: \n",
      "0.0012707744468423224\n",
      "\n",
      "\n",
      "Final Training Loss is 0.127077 %\n"
     ]
    }
   ],
   "source": [
    "X=np.array(([0,0,1],[0,1,1],[1,0,1],[1,1,1]), dtype=float)\n",
    "y=np.array(([0],[1],[1],[0]), dtype=float)\n",
    "#Instantiate a neural network from our created Class.\n",
    "NN = NN(X,y)\n",
    "#Set our training Epochs\n",
    "epochs = 2000\n",
    "\n",
    "for i in range(epochs):\n",
    "    if i % 1000 ==0: \n",
    "        print (\"for iteration # \" + str(i) + \"\\n\")\n",
    "        l = np.mean(np.square(y - NN.ff()))\n",
    "        print (\"The Loss is: \\n\" + str(l)) # MSE LOSS\n",
    "        print (\"\\n\")\n",
    "    NN.train(X,y)\n",
    "l = np.around(l*100,decimals=6)\n",
    "print(f'Final Training Loss is {l} %')"
   ]
  },
  {
   "cell_type": "markdown",
   "metadata": {},
   "source": [
    "## [Neural Network Playground](http://playground.tensorflow.org/)\n",
    "Now its your time to tinker around with Neural Networks\n"
   ]
  },
  {
   "cell_type": "code",
   "execution_count": 94,
   "metadata": {},
   "outputs": [
    {
     "data": {
      "text/html": [
       "<iframe src=\"http://playground.tensorflow.org/\" width=\"1000\" height=\"600\"></iframe>\n"
      ],
      "text/plain": [
       "<IPython.core.display.HTML object>"
      ]
     },
     "metadata": {},
     "output_type": "display_data"
    }
   ],
   "source": [
    "%%html \n",
    "<iframe src=\"http://playground.tensorflow.org/\" width=\"1000\" height=\"600\"></iframe>"
   ]
  },
  {
   "cell_type": "markdown",
   "metadata": {
    "collapsed": true
   },
   "source": [
    "# That was a lot!\n",
    "## Here are some resources to aid you.\n",
    "1. ### [But what *is* a Neural Network? | Deep learning by 3Blue1Brown](https://www.youtube.com/watch?v=aircAruvnKk) <br>\n",
    "2. ### [What is backpropagation really doing? | Deep learning by 3Blue1Brown](https://www.youtube.com/watch?v=Ilg3gGewQ5U)  <br>\n",
    "3. ### [How the backpropagation algorithm works](http://neuralnetworksanddeeplearning.com/chap2.html) <br>\n",
    "4. ### [Using neural nets to recognize handwritten digits](http://neuralnetworksanddeeplearning.com/chap1.html)<br>"
   ]
  }
 ],
 "metadata": {
  "kernelspec": {
   "display_name": "Python 3",
   "language": "python",
   "name": "python3"
  },
  "language_info": {
   "codemirror_mode": {
    "name": "ipython",
    "version": 3
   },
   "file_extension": ".py",
   "mimetype": "text/x-python",
   "name": "python",
   "nbconvert_exporter": "python",
   "pygments_lexer": "ipython3",
   "version": "3.7.1"
  }
 },
 "nbformat": 4,
 "nbformat_minor": 2
}
