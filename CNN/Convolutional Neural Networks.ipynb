{
  "nbformat": 4,
  "nbformat_minor": 0,
  "metadata": {
    "colab": {
      "name": "Convolutional Neural Networks.ipynb",
      "version": "0.3.2",
      "provenance": []
    },
    "kernelspec": {
      "name": "python3",
      "display_name": "Python 3"
    },
    "accelerator": "GPU"
  },
  "cells": [
    {
      "metadata": {
        "id": "Mxxmfflhrun0",
        "colab_type": "text"
      },
      "cell_type": "markdown",
      "source": [
        "## Computer Vision"
      ]
    },
    {
      "metadata": {
        "id": "oWJTfeBGrun5",
        "colab_type": "text"
      },
      "cell_type": "markdown",
      "source": [
        "![image](https://github.com/Abhi-1198/Image-Captioning-Workshop/blob/master/CNN/images/that-computer-vision-so-hot-right-now.jpg?raw=1)"
      ]
    },
    {
      "metadata": {
        "id": "YfDQJQlCrun6",
        "colab_type": "text"
      },
      "cell_type": "markdown",
      "source": [
        "Source : Google"
      ]
    },
    {
      "metadata": {
        "id": "wbf7M5furun7",
        "colab_type": "text"
      },
      "cell_type": "markdown",
      "source": [
        "**How to make machines see?**"
      ]
    },
    {
      "metadata": {
        "id": "TzGdAc5srun7",
        "colab_type": "text"
      },
      "cell_type": "markdown",
      "source": [
        "**Computer Vision** is Deep Learning."
      ]
    },
    {
      "metadata": {
        "id": "XwNJoHGkrun8",
        "colab_type": "text"
      },
      "cell_type": "markdown",
      "source": [
        "![cv_dl.png](https://github.com/Abhi-1198/Image-Captioning-Workshop/blob/master/CNN/images/cv_dl.png?raw=1)"
      ]
    },
    {
      "metadata": {
        "id": "ra-2zxIyrun9",
        "colab_type": "text"
      },
      "cell_type": "markdown",
      "source": [
        "======================================================================================================================"
      ]
    },
    {
      "metadata": {
        "id": "BMhFJWMtrun-",
        "colab_type": "text"
      },
      "cell_type": "markdown",
      "source": [
        "## Images Are Numbers"
      ]
    },
    {
      "metadata": {
        "id": "KBxJUAOWrun_",
        "colab_type": "text"
      },
      "cell_type": "markdown",
      "source": [
        "![img_num.png](https://github.com/Abhi-1198/Image-Captioning-Workshop/blob/master/CNN/images/img_num.png?raw=1)"
      ]
    },
    {
      "metadata": {
        "id": "7ZUbSp1kruoA",
        "colab_type": "text"
      },
      "cell_type": "markdown",
      "source": [
        "======================================================================================================================"
      ]
    },
    {
      "metadata": {
        "id": "rZSmAkheruoB",
        "colab_type": "text"
      },
      "cell_type": "markdown",
      "source": [
        "## Visual Cortex"
      ]
    },
    {
      "metadata": {
        "id": "QJbg4NsHruoC",
        "colab_type": "text"
      },
      "cell_type": "markdown",
      "source": [
        "(Its structure is **Instructive** and **Inspiring**)"
      ]
    },
    {
      "metadata": {
        "id": "kdwpb8kZruoD",
        "colab_type": "text"
      },
      "cell_type": "markdown",
      "source": [
        "![visual_cortex.png](https://github.com/Abhi-1198/Image-Captioning-Workshop/blob/master/CNN/images/visual_cortex.png?raw=1)"
      ]
    },
    {
      "metadata": {
        "id": "P5r2zLXJruoE",
        "colab_type": "text"
      },
      "cell_type": "markdown",
      "source": [
        "======================================================================================================================"
      ]
    },
    {
      "metadata": {
        "id": "GNrBOzFJruoG",
        "colab_type": "text"
      },
      "cell_type": "markdown",
      "source": [
        "## Image Classification Pipeline"
      ]
    },
    {
      "metadata": {
        "id": "VupIU1ntruoJ",
        "colab_type": "text"
      },
      "cell_type": "markdown",
      "source": [
        "![img_classification_pipeline.png](https://github.com/Abhi-1198/Image-Captioning-Workshop/blob/master/CNN/images/img_classification_pipeline.png?raw=1)"
      ]
    },
    {
      "metadata": {
        "id": "RMztKEX-ruoK",
        "colab_type": "text"
      },
      "cell_type": "markdown",
      "source": [
        "======================================================================================================================"
      ]
    },
    {
      "metadata": {
        "id": "dTM40fddruoM",
        "colab_type": "text"
      },
      "cell_type": "markdown",
      "source": [
        "## Famous Computer Vision Datasets"
      ]
    },
    {
      "metadata": {
        "id": "sBQBJA2-ruoN",
        "colab_type": "text"
      },
      "cell_type": "markdown",
      "source": [
        "![famous%20computer%20vision%20datasets.png](https://github.com/Abhi-1198/Image-Captioning-Workshop/blob/master/CNN/images/famous%20computer%20vision%20datasets.png?raw=1)"
      ]
    },
    {
      "metadata": {
        "id": "QTujWzHMruoO",
        "colab_type": "text"
      },
      "cell_type": "markdown",
      "source": [
        "======================================================================================================================"
      ]
    },
    {
      "metadata": {
        "id": "2Bp00UMdruoP",
        "colab_type": "text"
      },
      "cell_type": "markdown",
      "source": [
        "*Reminder* : \n",
        "## 1. Weighing the evidence "
      ]
    },
    {
      "metadata": {
        "id": "IyFCR-yeruoQ",
        "colab_type": "text"
      },
      "cell_type": "markdown",
      "source": [
        "![weighin_eviden.png](https://github.com/Abhi-1198/Image-Captioning-Workshop/blob/master/CNN/images/weighin_eviden.png?raw=1)"
      ]
    },
    {
      "metadata": {
        "id": "2TLj9v3gruoR",
        "colab_type": "text"
      },
      "cell_type": "markdown",
      "source": [
        "## 2. \"Learning\" is Optimization of a function"
      ]
    },
    {
      "metadata": {
        "id": "dMpA3L48ruoS",
        "colab_type": "text"
      },
      "cell_type": "markdown",
      "source": [
        "![learning.png](https://github.com/Abhi-1198/Image-Captioning-Workshop/blob/master/CNN/images/learning.png?raw=1)"
      ]
    },
    {
      "metadata": {
        "id": "xVFcuV9eruoT",
        "colab_type": "text"
      },
      "cell_type": "markdown",
      "source": [
        "======================================================================================================================"
      ]
    },
    {
      "metadata": {
        "id": "lUhZ82nwruoV",
        "colab_type": "text"
      },
      "cell_type": "markdown",
      "source": [
        "## Classify and Image of a Number"
      ]
    },
    {
      "metadata": {
        "id": "h_cTg3f8ruoW",
        "colab_type": "text"
      },
      "cell_type": "markdown",
      "source": [
        "![img_num2.png](https://github.com/Abhi-1198/Image-Captioning-Workshop/blob/master/CNN/images/img_num2.png?raw=1)"
      ]
    },
    {
      "metadata": {
        "id": "4fhjTIIcruoX",
        "colab_type": "text"
      },
      "cell_type": "markdown",
      "source": [
        "======================================================================================================================"
      ]
    },
    {
      "metadata": {
        "id": "WbcgT2MuruoY",
        "colab_type": "text"
      },
      "cell_type": "markdown",
      "source": [
        "## Convolutional Neural Networks (CNN)"
      ]
    },
    {
      "metadata": {
        "id": "hhOgkC3lruoZ",
        "colab_type": "text"
      },
      "cell_type": "markdown",
      "source": [
        "![cnn.png](https://github.com/Abhi-1198/Image-Captioning-Workshop/blob/master/CNN/images/cnn.png?raw=1)"
      ]
    },
    {
      "metadata": {
        "id": "pf2pYIhpruoa",
        "colab_type": "text"
      },
      "cell_type": "markdown",
      "source": [
        "## CNN:Layers"
      ]
    },
    {
      "metadata": {
        "id": "S8N3p591ruob",
        "colab_type": "text"
      },
      "cell_type": "markdown",
      "source": [
        "![cnn_layers.png](https://github.com/Abhi-1198/Image-Captioning-Workshop/blob/master/CNN/images/cnn_layers.png?raw=1)"
      ]
    },
    {
      "metadata": {
        "id": "rzMb0sJ6ruoc",
        "colab_type": "text"
      },
      "cell_type": "markdown",
      "source": [
        "## Convolution"
      ]
    },
    {
      "metadata": {
        "id": "5JBcjwiaruod",
        "colab_type": "text"
      },
      "cell_type": "markdown",
      "source": [
        "![1__34EtrgYk6cQxlJ2br51HQ.gif](https://github.com/Abhi-1198/Image-Captioning-Workshop/blob/master/CNN/images/1__34EtrgYk6cQxlJ2br51HQ.gif?raw=1)"
      ]
    },
    {
      "metadata": {
        "id": "_k9ImuKYruoe",
        "colab_type": "text"
      },
      "cell_type": "markdown",
      "source": [
        "Source : Google"
      ]
    },
    {
      "metadata": {
        "id": "siqDMWdZruoe",
        "colab_type": "text"
      },
      "cell_type": "markdown",
      "source": [
        "======================================================================================================================"
      ]
    },
    {
      "metadata": {
        "id": "I8rlq9TWruof",
        "colab_type": "text"
      },
      "cell_type": "markdown",
      "source": [
        "## Representation Learning"
      ]
    },
    {
      "metadata": {
        "id": "FGFgWaCwruog",
        "colab_type": "text"
      },
      "cell_type": "markdown",
      "source": [
        "![representation_l.png](https://github.com/Abhi-1198/Image-Captioning-Workshop/blob/master/CNN/images/representation_l.png?raw=1)"
      ]
    },
    {
      "metadata": {
        "id": "3MYaYg6mruoh",
        "colab_type": "text"
      },
      "cell_type": "markdown",
      "source": [
        "## ConvNets : Pooling"
      ]
    },
    {
      "metadata": {
        "id": "D4C5-rOGruoi",
        "colab_type": "text"
      },
      "cell_type": "markdown",
      "source": [
        "![pooling.png](https://github.com/Abhi-1198/Image-Captioning-Workshop/blob/master/CNN/images/pooling2.png?raw=1)"
      ]
    },
    {
      "metadata": {
        "collapsed": true,
        "id": "0J_So6aQruoj",
        "colab_type": "text"
      },
      "cell_type": "markdown",
      "source": [
        "======================================================================================================================"
      ]
    },
    {
      "metadata": {
        "id": "GH9Qw8fpruok",
        "colab_type": "text"
      },
      "cell_type": "markdown",
      "source": [
        "======================================================================================================================"
      ]
    },
    {
      "metadata": {
        "id": "VLrYd4iKruok",
        "colab_type": "text"
      },
      "cell_type": "markdown",
      "source": [
        "## Implementing Vanilla CNN"
      ]
    },
    {
      "metadata": {
        "id": "uFiDWf8Aruoo",
        "colab_type": "text"
      },
      "cell_type": "markdown",
      "source": [
        "This is the most basic CNN. It has 2 convolutional layers and 2 fully connected layer"
      ]
    },
    {
      "metadata": {
        "id": "1yg1zTPcruos",
        "colab_type": "code",
        "colab": {}
      },
      "cell_type": "code",
      "source": [
        "import numpy as np\n",
        "import tensorflow as tf\n",
        "import math\n",
        "import random\n",
        "from matplotlib import pyplot as plt\n",
        "%matplotlib inline\n",
        "plt.rcParams['figure.figsize'] = (10.0, 8.0)\n",
        "plt.rcParams['image.interpolation'] = 'nearest'\n",
        "plt.rcParams['image.cmap'] = 'gray'"
      ],
      "execution_count": 0,
      "outputs": []
    },
    {
      "metadata": {
        "id": "sStYFBk1ruow",
        "colab_type": "code",
        "colab": {
          "base_uri": "https://localhost:8080/",
          "height": 530
        },
        "outputId": "56070ecb-b372-4948-ca2c-0807fab11e81"
      },
      "cell_type": "code",
      "source": [
        "# Load in data\n",
        "from tensorflow.examples.tutorials.mnist import input_data\n",
        "mnist = input_data.read_data_sets('data/MNIST_data', one_hot=True)"
      ],
      "execution_count": 2,
      "outputs": [
        {
          "output_type": "stream",
          "text": [
            "WARNING:tensorflow:From <ipython-input-2-430f90e09ae6>:2: read_data_sets (from tensorflow.contrib.learn.python.learn.datasets.mnist) is deprecated and will be removed in a future version.\n",
            "Instructions for updating:\n",
            "Please use alternatives such as official/mnist/dataset.py from tensorflow/models.\n",
            "WARNING:tensorflow:From /usr/local/lib/python3.6/dist-packages/tensorflow/contrib/learn/python/learn/datasets/mnist.py:260: maybe_download (from tensorflow.contrib.learn.python.learn.datasets.base) is deprecated and will be removed in a future version.\n",
            "Instructions for updating:\n",
            "Please write your own downloading logic.\n",
            "WARNING:tensorflow:From /usr/local/lib/python3.6/dist-packages/tensorflow/contrib/learn/python/learn/datasets/base.py:252: _internal_retry.<locals>.wrap.<locals>.wrapped_fn (from tensorflow.contrib.learn.python.learn.datasets.base) is deprecated and will be removed in a future version.\n",
            "Instructions for updating:\n",
            "Please use urllib or similar directly.\n",
            "Successfully downloaded train-images-idx3-ubyte.gz 9912422 bytes.\n",
            "WARNING:tensorflow:From /usr/local/lib/python3.6/dist-packages/tensorflow/contrib/learn/python/learn/datasets/mnist.py:262: extract_images (from tensorflow.contrib.learn.python.learn.datasets.mnist) is deprecated and will be removed in a future version.\n",
            "Instructions for updating:\n",
            "Please use tf.data to implement this functionality.\n",
            "Extracting data/MNIST_data/train-images-idx3-ubyte.gz\n",
            "Successfully downloaded train-labels-idx1-ubyte.gz 28881 bytes.\n",
            "WARNING:tensorflow:From /usr/local/lib/python3.6/dist-packages/tensorflow/contrib/learn/python/learn/datasets/mnist.py:267: extract_labels (from tensorflow.contrib.learn.python.learn.datasets.mnist) is deprecated and will be removed in a future version.\n",
            "Instructions for updating:\n",
            "Please use tf.data to implement this functionality.\n",
            "Extracting data/MNIST_data/train-labels-idx1-ubyte.gz\n",
            "WARNING:tensorflow:From /usr/local/lib/python3.6/dist-packages/tensorflow/contrib/learn/python/learn/datasets/mnist.py:110: dense_to_one_hot (from tensorflow.contrib.learn.python.learn.datasets.mnist) is deprecated and will be removed in a future version.\n",
            "Instructions for updating:\n",
            "Please use tf.one_hot on tensors.\n",
            "Successfully downloaded t10k-images-idx3-ubyte.gz 1648877 bytes.\n",
            "Extracting data/MNIST_data/t10k-images-idx3-ubyte.gz\n",
            "Successfully downloaded t10k-labels-idx1-ubyte.gz 4542 bytes.\n",
            "Extracting data/MNIST_data/t10k-labels-idx1-ubyte.gz\n",
            "WARNING:tensorflow:From /usr/local/lib/python3.6/dist-packages/tensorflow/contrib/learn/python/learn/datasets/mnist.py:290: DataSet.__init__ (from tensorflow.contrib.learn.python.learn.datasets.mnist) is deprecated and will be removed in a future version.\n",
            "Instructions for updating:\n",
            "Please use alternatives such as official/mnist/dataset.py from tensorflow/models.\n"
          ],
          "name": "stdout"
        }
      ]
    },
    {
      "metadata": {
        "id": "F9NEXkmdruo2",
        "colab_type": "code",
        "colab": {}
      },
      "cell_type": "code",
      "source": [
        "def weight_variable(shape):\n",
        "    initial = tf.truncated_normal(shape, stddev=0.1)\n",
        "    return tf.Variable(initial)\n",
        "\n",
        "def bias_variable(shape):\n",
        "    initial = tf.constant(0.1, shape=shape)\n",
        "    return tf.Variable(initial)"
      ],
      "execution_count": 0,
      "outputs": []
    },
    {
      "metadata": {
        "id": "GYx0QfhLruo7",
        "colab_type": "code",
        "colab": {}
      },
      "cell_type": "code",
      "source": [
        "def conv2d(x, W):\n",
        "    # [batch, in_height, in_width, in_channels]\n",
        "    # [filter_height, filter_width, in_channels, out_channels]\n",
        "    return tf.nn.conv2d(x, W, strides=[1, 1, 1, 1], padding='SAME')"
      ],
      "execution_count": 0,
      "outputs": []
    },
    {
      "metadata": {
        "id": "L7Unx3owruo-",
        "colab_type": "code",
        "colab": {
          "base_uri": "https://localhost:8080/",
          "height": 190
        },
        "outputId": "88d7478e-15f5-4dcd-af73-161f47f596b9"
      },
      "cell_type": "code",
      "source": [
        "# Placeholders\n",
        "y_true = tf.placeholder(tf.float32, [None, 10])\n",
        "x = tf.placeholder(tf.float32, [None, 784])\n",
        "\n",
        "# Resize to appropriate input tensor:\n",
        "# [batch, in_height, in_width, in_channels]\n",
        "x_image = tf.reshape(x, [-1,28,28,1])\n",
        "\n",
        "# First Convolutional Layer\n",
        "W_conv1 = weight_variable([5, 5, 1, 32])\n",
        "b_conv1 = bias_variable([32])\n",
        "h_conv1 = tf.nn.relu(conv2d(x_image, W_conv1) + b_conv1)\n",
        "\n",
        "# Second Convolitional Layer\n",
        "W_conv2 = weight_variable([5, 5, 32, 64])\n",
        "b_conv2 = bias_variable([64])\n",
        "h_conv2 = tf.nn.relu(conv2d(h_conv1, W_conv2) + b_conv2)\n",
        "\n",
        "# Densely Connected Layer\n",
        "W_fc1 = weight_variable([28*28*64, 1024])\n",
        "b_fc1 = bias_variable([1024])\n",
        "h_conv2_flat = tf.reshape(h_conv2, [-1, 28*28*64])\n",
        "h_fc1 = tf.nn.relu(tf.matmul(h_conv2_flat, W_fc1) + b_fc1)\n",
        "\n",
        "# Readout Layer\n",
        "W_fc2 = weight_variable([1024, 10])\n",
        "b_fc2 = bias_variable([10])\n",
        "y_conv = tf.matmul(h_fc1, W_fc2) + b_fc2\n",
        "\n",
        "# Loss\n",
        "cross_entropy = tf.reduce_mean(tf.nn.softmax_cross_entropy_with_logits_v2(logits=y_conv, labels=y_true))\n",
        "train_step = tf.train.AdamOptimizer(1e-4).minimize(cross_entropy)\n",
        "correct_prediction = tf.equal(tf.argmax(y_conv,1), tf.argmax(y_true,1))\n",
        "accuracy = tf.reduce_mean(tf.cast(correct_prediction, tf.float32))\n",
        "\n",
        "sess = tf.InteractiveSession()\n",
        "sess.run(tf.initialize_all_variables())\n",
        "\n",
        "for i in range(5000):\n",
        "    batch = mnist.train.next_batch(50)\n",
        "    if i % 1000 == 0:\n",
        "        _, acc = sess.run([train_step, accuracy], feed_dict={x: batch[0], y_true: batch[1]})\n",
        "        print(\"step [%d]: training accuracy %g\" % (i, acc))\n",
        "    else:\n",
        "        sess.run(train_step, feed_dict={x: batch[0], y_true: batch[1]})\n",
        "\n",
        "print(\"--- RESULTS ---\")\n",
        "print(\"Test Accuracy %g\" % accuracy.eval(feed_dict={\n",
        "    x: mnist.test.images, y_true: mnist.test.labels}))\n",
        "\n",
        "sess.close()"
      ],
      "execution_count": 6,
      "outputs": [
        {
          "output_type": "stream",
          "text": [
            "/usr/local/lib/python3.6/dist-packages/tensorflow/python/client/session.py:1702: UserWarning: An interactive session is already active. This can cause out-of-memory errors in some cases. You must explicitly call `InteractiveSession.close()` to release resources held by the other session(s).\n",
            "  warnings.warn('An interactive session is already active. This can '\n"
          ],
          "name": "stderr"
        },
        {
          "output_type": "stream",
          "text": [
            "step [0]: training accuracy 0.18\n",
            "step [1000]: training accuracy 0.92\n",
            "step [2000]: training accuracy 0.96\n",
            "step [3000]: training accuracy 0.98\n",
            "step [4000]: training accuracy 0.98\n",
            "--- RESULTS ---\n",
            "Test Accuracy 0.9819\n"
          ],
          "name": "stdout"
        }
      ]
    },
    {
      "metadata": {
        "id": "aGOT3ANKsgSr",
        "colab_type": "code",
        "colab": {}
      },
      "cell_type": "code",
      "source": [
        ""
      ],
      "execution_count": 0,
      "outputs": []
    }
  ]
}